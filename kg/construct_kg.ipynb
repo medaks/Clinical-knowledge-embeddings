{
 "cells": [
  {
   "cell_type": "markdown",
   "metadata": {},
   "source": [
    "# Construct PheKG knowledge graph"
   ]
  },
  {
   "cell_type": "code",
   "execution_count": 1,
   "metadata": {},
   "outputs": [],
   "source": [
    "import os\n",
    "import pandas as pd\n",
    "import numpy as np\n",
    "import dgl \n",
    "import torch\n",
    "import csv\n",
    "from tqdm import tqdm"
   ]
  },
  {
   "cell_type": "code",
   "execution_count": 2,
   "metadata": {},
   "outputs": [],
   "source": [
    "# set seeds\n",
    "torch.manual_seed(0)\n",
    "import random\n",
    "random.seed(0)\n",
    "import numpy as np\n",
    "np.random.seed(0)"
   ]
  },
  {
   "cell_type": "code",
   "execution_count": 3,
   "metadata": {},
   "outputs": [],
   "source": [
    "os.chdir(r\"phekg/\")"
   ]
  },
  {
   "cell_type": "markdown",
   "metadata": {},
   "source": [
    "## Download relevant medical vocabularies"
   ]
  },
  {
   "cell_type": "code",
   "execution_count": 5,
   "metadata": {},
   "outputs": [
    {
     "name": "stdout",
     "output_type": "stream",
     "text": [
      "/n/home01/ruthjohnson/github_sandbox/Clinical-knowledge-embeddings/kg/phekg/phekg\n"
     ]
    }
   ],
   "source": [
    "# creat subfolder to hold kg files \n",
    "!mkdir -p phekg\n",
    "os.chdir(r\"phekg/\")\n",
    "!pwd"
   ]
  },
  {
   "cell_type": "code",
   "execution_count": 4,
   "metadata": {},
   "outputs": [
    {
     "name": "stdout",
     "output_type": "stream",
     "text": [
      "--2024-08-06 13:46:59--  https://phewascatalog.org/files/phemap/PheMap_Mapped_Terminologies_1.1.csv\n",
      "Resolving phewascatalog.org (phewascatalog.org)... 160.129.28.255\n",
      "Connecting to phewascatalog.org (phewascatalog.org)|160.129.28.255|:443... connected.\n",
      "HTTP request sent, awaiting response... 200 OK\n",
      "Length: 235935924 (225M) [text/csv]\n",
      "Saving to: ‘PheMap_Mapped_Terminologies_1.1.csv’\n",
      "\n",
      "PheMap_Mapped_Termi   1%[                    ]   4.07M  1.91MB/s               ^C\n",
      "--2024-08-06 13:47:01--  https://phewascatalog.org/files/phemap/Phecode_Relationship.csv\n",
      "Resolving phewascatalog.org (phewascatalog.org)... 160.129.28.255\n",
      "Connecting to phewascatalog.org (phewascatalog.org)|160.129.28.255|:443... connected.\n",
      "HTTP request sent, awaiting response... 200 OK\n",
      "Length: 44138 (43K) [text/csv]\n",
      "Saving to: ‘Phecode_Relationship.csv’\n",
      "\n",
      "Phecode_Relationshi 100%[===================>]  43.10K  --.-KB/s    in 0.03s   \n",
      "\n",
      "2024-08-06 13:47:02 (1.47 MB/s) - ‘Phecode_Relationship.csv’ saved [44138/44138]\n",
      "\n",
      "--2024-08-06 13:47:02--  https://phewascatalog.org/files/phecode_definitions1.1.csv.zip\n",
      "Resolving phewascatalog.org (phewascatalog.org)... 160.129.28.255\n",
      "Connecting to phewascatalog.org (phewascatalog.org)|160.129.28.255|:443... connected.\n",
      "HTTP request sent, awaiting response... 200 OK\n",
      "Length: 28957 (28K) [application/zip]\n",
      "Saving to: ‘phecode_definitions1.1.csv.zip’\n",
      "\n",
      "phecode_definitions 100%[===================>]  28.28K  --.-KB/s    in 0.001s  \n",
      "\n",
      "2024-08-06 13:47:02 (27.4 MB/s) - ‘phecode_definitions1.1.csv.zip’ saved [28957/28957]\n",
      "\n",
      "Archive:  phecode_definitions1.1.csv.zip\n",
      "  inflating: phecode_definitions1.1.csv  \n"
     ]
    }
   ],
   "source": [
    "#\n",
    "# PheMap and phecodes\n",
    "#\n",
    "# https://www.vumc.org/cpm/phemap\n",
    "\n",
    "!wget https://phewascatalog.org/files/phemap/PheMap_Mapped_Terminologies_1.1.csv\n",
    "!wget https://phewascatalog.org/files/phemap/Phecode_Relationship.csv \n",
    "\n",
    "!wget https://phewascatalog.org/files/phecode_definitions1.1.csv.zip \n",
    "!unzip phecode_definitions1.1.csv.zip\n",
    "\n",
    "!wget https://phewascatalog.org/files/phecode_icd9_map_unrolled.csv.zip\n",
    "!unzip phecode_icd9_map_unrolled.csv.zip"
   ]
  },
  {
   "cell_type": "code",
   "execution_count": 6,
   "metadata": {},
   "outputs": [
    {
     "name": "stdout",
     "output_type": "stream",
     "text": [
      "head: cannot open 'umls.csv' for reading: No such file or directory\n",
      "grep: umls.csv: No such file or directory\n"
     ]
    }
   ],
   "source": [
    "#\n",
    "# UMLS\n",
    "#\n",
    "\n",
    "# This assumes that the file 'umls.csv' is provided. This is accessible by registering and downloading \n",
    "# the UMLS dataset (https://www.nlm.nih.gov/databases/umls.html)\n",
    "\n",
    "!head -n 1 umls.csv  > umls_atc_rxnorm.csv\n",
    "!grep -E 'ATC|RXNORM' umls.csv  >> umls_atc_rxnorm.csv\n",
    "!cut -d',' -f1,3,4,5,6,7,8,9,10,11,12,13,14,15 umls_atc_rxnorm.csv | sed 's/^\"//' | sed 's/\"$//' > umls_atc_rxnorm_clean.csv"
   ]
  },
  {
   "cell_type": "code",
   "execution_count": 4,
   "metadata": {},
   "outputs": [
    {
     "ename": "FileNotFoundError",
     "evalue": "[Errno 2] No such file or directory: 'umls_atc_rxnorm_clean.csv'",
     "output_type": "error",
     "traceback": [
      "\u001b[0;31m---------------------------------------------------------------------------\u001b[0m",
      "\u001b[0;31mFileNotFoundError\u001b[0m                         Traceback (most recent call last)",
      "Cell \u001b[0;32mIn[4], line 2\u001b[0m\n\u001b[1;32m      1\u001b[0m umls_file \u001b[38;5;241m=\u001b[39m \u001b[38;5;124m\"\u001b[39m\u001b[38;5;124mumls_atc_rxnorm_clean.csv\u001b[39m\u001b[38;5;124m\"\u001b[39m\n\u001b[0;32m----> 2\u001b[0m umls_df \u001b[38;5;241m=\u001b[39m \u001b[43mpd\u001b[49m\u001b[38;5;241;43m.\u001b[39;49m\u001b[43mread_table\u001b[49m\u001b[43m(\u001b[49m\u001b[38;5;124;43m\"\u001b[39;49m\u001b[38;5;124;43mumls_atc_rxnorm_clean.csv\u001b[39;49m\u001b[38;5;124;43m\"\u001b[39;49m\u001b[43m,\u001b[49m\u001b[43m \u001b[49m\u001b[43msep\u001b[49m\u001b[38;5;241;43m=\u001b[39;49m\u001b[38;5;124;43m'\u001b[39;49m\u001b[38;5;124;43m,\u001b[39;49m\u001b[38;5;124;43m'\u001b[39;49m\u001b[43m,\u001b[49m\u001b[43m  \u001b[49m\u001b[43mquoting\u001b[49m\u001b[38;5;241;43m=\u001b[39;49m\u001b[43mcsv\u001b[49m\u001b[38;5;241;43m.\u001b[39;49m\u001b[43mQUOTE_NONE\u001b[49m\u001b[43m)\u001b[49m\n\u001b[1;32m      3\u001b[0m umls_df \u001b[38;5;241m=\u001b[39m umls_df\u001b[38;5;241m.\u001b[39mdrop([\u001b[38;5;124m'\u001b[39m\u001b[38;5;124msource_aui\u001b[39m\u001b[38;5;124m'\u001b[39m, \u001b[38;5;124m'\u001b[39m\u001b[38;5;124msource_cui\u001b[39m\u001b[38;5;124m'\u001b[39m, \u001b[38;5;124m'\u001b[39m\u001b[38;5;124msource_descriptor_dui\u001b[39m\u001b[38;5;124m'\u001b[39m], axis\u001b[38;5;241m=\u001b[39m\u001b[38;5;241m1\u001b[39m)\n\u001b[1;32m      5\u001b[0m \u001b[38;5;66;03m# only keep active terms\u001b[39;00m\n",
      "File \u001b[0;32m~/.local/lib/python3.10/site-packages/pandas/io/parsers/readers.py:1405\u001b[0m, in \u001b[0;36mread_table\u001b[0;34m(filepath_or_buffer, sep, delimiter, header, names, index_col, usecols, dtype, engine, converters, true_values, false_values, skipinitialspace, skiprows, skipfooter, nrows, na_values, keep_default_na, na_filter, verbose, skip_blank_lines, parse_dates, infer_datetime_format, keep_date_col, date_parser, date_format, dayfirst, cache_dates, iterator, chunksize, compression, thousands, decimal, lineterminator, quotechar, quoting, doublequote, escapechar, comment, encoding, encoding_errors, dialect, on_bad_lines, delim_whitespace, low_memory, memory_map, float_precision, storage_options, dtype_backend)\u001b[0m\n\u001b[1;32m   1392\u001b[0m kwds_defaults \u001b[38;5;241m=\u001b[39m _refine_defaults_read(\n\u001b[1;32m   1393\u001b[0m     dialect,\n\u001b[1;32m   1394\u001b[0m     delimiter,\n\u001b[0;32m   (...)\u001b[0m\n\u001b[1;32m   1401\u001b[0m     dtype_backend\u001b[38;5;241m=\u001b[39mdtype_backend,\n\u001b[1;32m   1402\u001b[0m )\n\u001b[1;32m   1403\u001b[0m kwds\u001b[38;5;241m.\u001b[39mupdate(kwds_defaults)\n\u001b[0;32m-> 1405\u001b[0m \u001b[38;5;28;01mreturn\u001b[39;00m \u001b[43m_read\u001b[49m\u001b[43m(\u001b[49m\u001b[43mfilepath_or_buffer\u001b[49m\u001b[43m,\u001b[49m\u001b[43m \u001b[49m\u001b[43mkwds\u001b[49m\u001b[43m)\u001b[49m\n",
      "File \u001b[0;32m~/.local/lib/python3.10/site-packages/pandas/io/parsers/readers.py:620\u001b[0m, in \u001b[0;36m_read\u001b[0;34m(filepath_or_buffer, kwds)\u001b[0m\n\u001b[1;32m    617\u001b[0m _validate_names(kwds\u001b[38;5;241m.\u001b[39mget(\u001b[38;5;124m\"\u001b[39m\u001b[38;5;124mnames\u001b[39m\u001b[38;5;124m\"\u001b[39m, \u001b[38;5;28;01mNone\u001b[39;00m))\n\u001b[1;32m    619\u001b[0m \u001b[38;5;66;03m# Create the parser.\u001b[39;00m\n\u001b[0;32m--> 620\u001b[0m parser \u001b[38;5;241m=\u001b[39m \u001b[43mTextFileReader\u001b[49m\u001b[43m(\u001b[49m\u001b[43mfilepath_or_buffer\u001b[49m\u001b[43m,\u001b[49m\u001b[43m \u001b[49m\u001b[38;5;241;43m*\u001b[39;49m\u001b[38;5;241;43m*\u001b[39;49m\u001b[43mkwds\u001b[49m\u001b[43m)\u001b[49m\n\u001b[1;32m    622\u001b[0m \u001b[38;5;28;01mif\u001b[39;00m chunksize \u001b[38;5;129;01mor\u001b[39;00m iterator:\n\u001b[1;32m    623\u001b[0m     \u001b[38;5;28;01mreturn\u001b[39;00m parser\n",
      "File \u001b[0;32m~/.local/lib/python3.10/site-packages/pandas/io/parsers/readers.py:1620\u001b[0m, in \u001b[0;36mTextFileReader.__init__\u001b[0;34m(self, f, engine, **kwds)\u001b[0m\n\u001b[1;32m   1617\u001b[0m     \u001b[38;5;28mself\u001b[39m\u001b[38;5;241m.\u001b[39moptions[\u001b[38;5;124m\"\u001b[39m\u001b[38;5;124mhas_index_names\u001b[39m\u001b[38;5;124m\"\u001b[39m] \u001b[38;5;241m=\u001b[39m kwds[\u001b[38;5;124m\"\u001b[39m\u001b[38;5;124mhas_index_names\u001b[39m\u001b[38;5;124m\"\u001b[39m]\n\u001b[1;32m   1619\u001b[0m \u001b[38;5;28mself\u001b[39m\u001b[38;5;241m.\u001b[39mhandles: IOHandles \u001b[38;5;241m|\u001b[39m \u001b[38;5;28;01mNone\u001b[39;00m \u001b[38;5;241m=\u001b[39m \u001b[38;5;28;01mNone\u001b[39;00m\n\u001b[0;32m-> 1620\u001b[0m \u001b[38;5;28mself\u001b[39m\u001b[38;5;241m.\u001b[39m_engine \u001b[38;5;241m=\u001b[39m \u001b[38;5;28;43mself\u001b[39;49m\u001b[38;5;241;43m.\u001b[39;49m\u001b[43m_make_engine\u001b[49m\u001b[43m(\u001b[49m\u001b[43mf\u001b[49m\u001b[43m,\u001b[49m\u001b[43m \u001b[49m\u001b[38;5;28;43mself\u001b[39;49m\u001b[38;5;241;43m.\u001b[39;49m\u001b[43mengine\u001b[49m\u001b[43m)\u001b[49m\n",
      "File \u001b[0;32m~/.local/lib/python3.10/site-packages/pandas/io/parsers/readers.py:1880\u001b[0m, in \u001b[0;36mTextFileReader._make_engine\u001b[0;34m(self, f, engine)\u001b[0m\n\u001b[1;32m   1878\u001b[0m     \u001b[38;5;28;01mif\u001b[39;00m \u001b[38;5;124m\"\u001b[39m\u001b[38;5;124mb\u001b[39m\u001b[38;5;124m\"\u001b[39m \u001b[38;5;129;01mnot\u001b[39;00m \u001b[38;5;129;01min\u001b[39;00m mode:\n\u001b[1;32m   1879\u001b[0m         mode \u001b[38;5;241m+\u001b[39m\u001b[38;5;241m=\u001b[39m \u001b[38;5;124m\"\u001b[39m\u001b[38;5;124mb\u001b[39m\u001b[38;5;124m\"\u001b[39m\n\u001b[0;32m-> 1880\u001b[0m \u001b[38;5;28mself\u001b[39m\u001b[38;5;241m.\u001b[39mhandles \u001b[38;5;241m=\u001b[39m \u001b[43mget_handle\u001b[49m\u001b[43m(\u001b[49m\n\u001b[1;32m   1881\u001b[0m \u001b[43m    \u001b[49m\u001b[43mf\u001b[49m\u001b[43m,\u001b[49m\n\u001b[1;32m   1882\u001b[0m \u001b[43m    \u001b[49m\u001b[43mmode\u001b[49m\u001b[43m,\u001b[49m\n\u001b[1;32m   1883\u001b[0m \u001b[43m    \u001b[49m\u001b[43mencoding\u001b[49m\u001b[38;5;241;43m=\u001b[39;49m\u001b[38;5;28;43mself\u001b[39;49m\u001b[38;5;241;43m.\u001b[39;49m\u001b[43moptions\u001b[49m\u001b[38;5;241;43m.\u001b[39;49m\u001b[43mget\u001b[49m\u001b[43m(\u001b[49m\u001b[38;5;124;43m\"\u001b[39;49m\u001b[38;5;124;43mencoding\u001b[39;49m\u001b[38;5;124;43m\"\u001b[39;49m\u001b[43m,\u001b[49m\u001b[43m \u001b[49m\u001b[38;5;28;43;01mNone\u001b[39;49;00m\u001b[43m)\u001b[49m\u001b[43m,\u001b[49m\n\u001b[1;32m   1884\u001b[0m \u001b[43m    \u001b[49m\u001b[43mcompression\u001b[49m\u001b[38;5;241;43m=\u001b[39;49m\u001b[38;5;28;43mself\u001b[39;49m\u001b[38;5;241;43m.\u001b[39;49m\u001b[43moptions\u001b[49m\u001b[38;5;241;43m.\u001b[39;49m\u001b[43mget\u001b[49m\u001b[43m(\u001b[49m\u001b[38;5;124;43m\"\u001b[39;49m\u001b[38;5;124;43mcompression\u001b[39;49m\u001b[38;5;124;43m\"\u001b[39;49m\u001b[43m,\u001b[49m\u001b[43m \u001b[49m\u001b[38;5;28;43;01mNone\u001b[39;49;00m\u001b[43m)\u001b[49m\u001b[43m,\u001b[49m\n\u001b[1;32m   1885\u001b[0m \u001b[43m    \u001b[49m\u001b[43mmemory_map\u001b[49m\u001b[38;5;241;43m=\u001b[39;49m\u001b[38;5;28;43mself\u001b[39;49m\u001b[38;5;241;43m.\u001b[39;49m\u001b[43moptions\u001b[49m\u001b[38;5;241;43m.\u001b[39;49m\u001b[43mget\u001b[49m\u001b[43m(\u001b[49m\u001b[38;5;124;43m\"\u001b[39;49m\u001b[38;5;124;43mmemory_map\u001b[39;49m\u001b[38;5;124;43m\"\u001b[39;49m\u001b[43m,\u001b[49m\u001b[43m \u001b[49m\u001b[38;5;28;43;01mFalse\u001b[39;49;00m\u001b[43m)\u001b[49m\u001b[43m,\u001b[49m\n\u001b[1;32m   1886\u001b[0m \u001b[43m    \u001b[49m\u001b[43mis_text\u001b[49m\u001b[38;5;241;43m=\u001b[39;49m\u001b[43mis_text\u001b[49m\u001b[43m,\u001b[49m\n\u001b[1;32m   1887\u001b[0m \u001b[43m    \u001b[49m\u001b[43merrors\u001b[49m\u001b[38;5;241;43m=\u001b[39;49m\u001b[38;5;28;43mself\u001b[39;49m\u001b[38;5;241;43m.\u001b[39;49m\u001b[43moptions\u001b[49m\u001b[38;5;241;43m.\u001b[39;49m\u001b[43mget\u001b[49m\u001b[43m(\u001b[49m\u001b[38;5;124;43m\"\u001b[39;49m\u001b[38;5;124;43mencoding_errors\u001b[39;49m\u001b[38;5;124;43m\"\u001b[39;49m\u001b[43m,\u001b[49m\u001b[43m \u001b[49m\u001b[38;5;124;43m\"\u001b[39;49m\u001b[38;5;124;43mstrict\u001b[39;49m\u001b[38;5;124;43m\"\u001b[39;49m\u001b[43m)\u001b[49m\u001b[43m,\u001b[49m\n\u001b[1;32m   1888\u001b[0m \u001b[43m    \u001b[49m\u001b[43mstorage_options\u001b[49m\u001b[38;5;241;43m=\u001b[39;49m\u001b[38;5;28;43mself\u001b[39;49m\u001b[38;5;241;43m.\u001b[39;49m\u001b[43moptions\u001b[49m\u001b[38;5;241;43m.\u001b[39;49m\u001b[43mget\u001b[49m\u001b[43m(\u001b[49m\u001b[38;5;124;43m\"\u001b[39;49m\u001b[38;5;124;43mstorage_options\u001b[39;49m\u001b[38;5;124;43m\"\u001b[39;49m\u001b[43m,\u001b[49m\u001b[43m \u001b[49m\u001b[38;5;28;43;01mNone\u001b[39;49;00m\u001b[43m)\u001b[49m\u001b[43m,\u001b[49m\n\u001b[1;32m   1889\u001b[0m \u001b[43m\u001b[49m\u001b[43m)\u001b[49m\n\u001b[1;32m   1890\u001b[0m \u001b[38;5;28;01massert\u001b[39;00m \u001b[38;5;28mself\u001b[39m\u001b[38;5;241m.\u001b[39mhandles \u001b[38;5;129;01mis\u001b[39;00m \u001b[38;5;129;01mnot\u001b[39;00m \u001b[38;5;28;01mNone\u001b[39;00m\n\u001b[1;32m   1891\u001b[0m f \u001b[38;5;241m=\u001b[39m \u001b[38;5;28mself\u001b[39m\u001b[38;5;241m.\u001b[39mhandles\u001b[38;5;241m.\u001b[39mhandle\n",
      "File \u001b[0;32m~/.local/lib/python3.10/site-packages/pandas/io/common.py:873\u001b[0m, in \u001b[0;36mget_handle\u001b[0;34m(path_or_buf, mode, encoding, compression, memory_map, is_text, errors, storage_options)\u001b[0m\n\u001b[1;32m    868\u001b[0m \u001b[38;5;28;01melif\u001b[39;00m \u001b[38;5;28misinstance\u001b[39m(handle, \u001b[38;5;28mstr\u001b[39m):\n\u001b[1;32m    869\u001b[0m     \u001b[38;5;66;03m# Check whether the filename is to be opened in binary mode.\u001b[39;00m\n\u001b[1;32m    870\u001b[0m     \u001b[38;5;66;03m# Binary mode does not support 'encoding' and 'newline'.\u001b[39;00m\n\u001b[1;32m    871\u001b[0m     \u001b[38;5;28;01mif\u001b[39;00m ioargs\u001b[38;5;241m.\u001b[39mencoding \u001b[38;5;129;01mand\u001b[39;00m \u001b[38;5;124m\"\u001b[39m\u001b[38;5;124mb\u001b[39m\u001b[38;5;124m\"\u001b[39m \u001b[38;5;129;01mnot\u001b[39;00m \u001b[38;5;129;01min\u001b[39;00m ioargs\u001b[38;5;241m.\u001b[39mmode:\n\u001b[1;32m    872\u001b[0m         \u001b[38;5;66;03m# Encoding\u001b[39;00m\n\u001b[0;32m--> 873\u001b[0m         handle \u001b[38;5;241m=\u001b[39m \u001b[38;5;28;43mopen\u001b[39;49m\u001b[43m(\u001b[49m\n\u001b[1;32m    874\u001b[0m \u001b[43m            \u001b[49m\u001b[43mhandle\u001b[49m\u001b[43m,\u001b[49m\n\u001b[1;32m    875\u001b[0m \u001b[43m            \u001b[49m\u001b[43mioargs\u001b[49m\u001b[38;5;241;43m.\u001b[39;49m\u001b[43mmode\u001b[49m\u001b[43m,\u001b[49m\n\u001b[1;32m    876\u001b[0m \u001b[43m            \u001b[49m\u001b[43mencoding\u001b[49m\u001b[38;5;241;43m=\u001b[39;49m\u001b[43mioargs\u001b[49m\u001b[38;5;241;43m.\u001b[39;49m\u001b[43mencoding\u001b[49m\u001b[43m,\u001b[49m\n\u001b[1;32m    877\u001b[0m \u001b[43m            \u001b[49m\u001b[43merrors\u001b[49m\u001b[38;5;241;43m=\u001b[39;49m\u001b[43merrors\u001b[49m\u001b[43m,\u001b[49m\n\u001b[1;32m    878\u001b[0m \u001b[43m            \u001b[49m\u001b[43mnewline\u001b[49m\u001b[38;5;241;43m=\u001b[39;49m\u001b[38;5;124;43m\"\u001b[39;49m\u001b[38;5;124;43m\"\u001b[39;49m\u001b[43m,\u001b[49m\n\u001b[1;32m    879\u001b[0m \u001b[43m        \u001b[49m\u001b[43m)\u001b[49m\n\u001b[1;32m    880\u001b[0m     \u001b[38;5;28;01melse\u001b[39;00m:\n\u001b[1;32m    881\u001b[0m         \u001b[38;5;66;03m# Binary mode\u001b[39;00m\n\u001b[1;32m    882\u001b[0m         handle \u001b[38;5;241m=\u001b[39m \u001b[38;5;28mopen\u001b[39m(handle, ioargs\u001b[38;5;241m.\u001b[39mmode)\n",
      "\u001b[0;31mFileNotFoundError\u001b[0m: [Errno 2] No such file or directory: 'umls_atc_rxnorm_clean.csv'"
     ]
    }
   ],
   "source": [
    "umls_file = \"umls_atc_rxnorm_clean.csv\"\n",
    "umls_df = pd.read_table(\"umls_atc_rxnorm_clean.csv\", sep=',',  quoting=csv.QUOTE_NONE)\n",
    "umls_df = umls_df.drop(['source_aui', 'source_cui', 'source_descriptor_dui'], axis=1)\n",
    "\n",
    "# only keep active terms\n",
    "umls_df = umls_df.query(\"term_status=='P'\")"
   ]
  },
  {
   "cell_type": "code",
   "execution_count": 3,
   "metadata": {},
   "outputs": [
    {
     "ename": "NameError",
     "evalue": "name 'umls_df' is not defined",
     "output_type": "error",
     "traceback": [
      "\u001b[0;31m---------------------------------------------------------------------------\u001b[0m",
      "\u001b[0;31mNameError\u001b[0m                                 Traceback (most recent call last)",
      "Cell \u001b[0;32mIn[3], line 6\u001b[0m\n\u001b[1;32m      1\u001b[0m \u001b[38;5;66;03m#\u001b[39;00m\n\u001b[1;32m      2\u001b[0m \u001b[38;5;66;03m# Anatomical Therapeutic Chemical (ATC) Classification\u001b[39;00m\n\u001b[1;32m      3\u001b[0m \u001b[38;5;66;03m#\u001b[39;00m\n\u001b[1;32m      4\u001b[0m \n\u001b[1;32m      5\u001b[0m \u001b[38;5;66;03m# atc codes\u001b[39;00m\n\u001b[0;32m----> 6\u001b[0m atc_df \u001b[38;5;241m=\u001b[39m \u001b[43mumls_df\u001b[49m\u001b[38;5;241m.\u001b[39mquery(\u001b[38;5;124m\"\u001b[39m\u001b[38;5;124msource==\u001b[39m\u001b[38;5;124m'\u001b[39m\u001b[38;5;124mATC\u001b[39m\u001b[38;5;124m'\u001b[39m\u001b[38;5;124m\"\u001b[39m)\n\u001b[1;32m      8\u001b[0m \u001b[38;5;66;03m# remove atc codes < ATC4\u001b[39;00m\n\u001b[1;32m      9\u001b[0m atc_df \u001b[38;5;241m=\u001b[39m atc_df\u001b[38;5;241m.\u001b[39massign(atc_len\u001b[38;5;241m=\u001b[39m[\u001b[38;5;28mlen\u001b[39m(x) \u001b[38;5;28;01mfor\u001b[39;00m x \u001b[38;5;129;01min\u001b[39;00m atc_df[\u001b[38;5;124m'\u001b[39m\u001b[38;5;124msource_code\u001b[39m\u001b[38;5;124m'\u001b[39m]])\n",
      "\u001b[0;31mNameError\u001b[0m: name 'umls_df' is not defined"
     ]
    }
   ],
   "source": [
    "#\n",
    "# Anatomical Therapeutic Chemical (ATC) Classification\n",
    "#\n",
    "\n",
    "# atc codes\n",
    "atc_df = umls_df.query(\"source=='ATC'\")\n",
    "\n",
    "# remove atc codes < ATC4\n",
    "atc_df = atc_df.assign(atc_len=[len(x) for x in atc_df['source_code']])\n",
    "atc_df = atc_df.query(\"atc_len >= 5\")\n",
    "\n",
    "# rxnorm\n",
    "rx_df = umls_df.query(\"source=='RXNORM'\")\n",
    "\n",
    "# overlap of atc and rxnorm by cui\n",
    "uniq_rx_df = rx_df[['cui', 'source_code', 'source_name']].drop_duplicates() \n",
    "uniq_atc_df = atc_df[['cui', 'source_code', 'source_name']].drop_duplicates()\n",
    "\n",
    "overlap_df = uniq_atc_df.merge(uniq_rx_df, on='cui', how='inner')\n",
    "overlap_df.columns = ['cui', 'atc_code', 'atc_name', 'rxnorm_code', 'rxnorm_name']\n",
    "uniq_overlap_df = overlap_df[['cui', 'atc_code', 'rxnorm_code']].drop_duplicates()\n",
    "\n",
    "# filter to only codes used in phemap\n",
    "phemap_df = pd.read_csv(\"PheMap_Mapped_Terminologies_1.1.csv\")\n",
    "phemap_rxnorm_codes = phemap_df.query(\"SOURCE=='RXNORM'\")['CODE'].unique()\n",
    "\n",
    "# save final mapping\n",
    "atc_rxnorm_map_df = uniq_overlap_df.loc[uniq_overlap_df['rxnorm_code'].isin(phemap_rxnorm_codes)]\n",
    "atc_rxnorm_map_df.to_csv(\"atc_rxnorm_map.csv\", index=False)"
   ]
  },
  {
   "cell_type": "code",
   "execution_count": 7,
   "metadata": {},
   "outputs": [
    {
     "data": {
      "text/plain": [
       "(727939, 5)"
      ]
     },
     "execution_count": 7,
     "metadata": {},
     "output_type": "execute_result"
    }
   ],
   "source": [
    "# original number of edges\n",
    "phemap_df.loc[phemap_df['SOURCE'] != 'ICD10CM'].shape"
   ]
  },
  {
   "cell_type": "code",
   "execution_count": 11,
   "metadata": {},
   "outputs": [
    {
     "data": {
      "text/plain": [
       "78801"
      ]
     },
     "execution_count": 11,
     "metadata": {},
     "output_type": "execute_result"
    }
   ],
   "source": [
    "# original number of nodes\n",
    "phecodes = phemap_df.loc[phemap_df['SOURCE'] != 'ICD10CM']['PHECODE'].unique().tolist()\n",
    "\n",
    "non_phecode_df = phemap_df.loc[phemap_df['SOURCE'] != 'ICD10CM'][['CODE', 'SOURCE']].drop_duplicates()\n",
    "\n",
    "len(phecodes) + len(non_phecode_df)"
   ]
  },
  {
   "cell_type": "markdown",
   "metadata": {},
   "source": [
    "## Construct Basic KG"
   ]
  },
  {
   "cell_type": "markdown",
   "metadata": {},
   "source": [
    "#### Use PheMap as basis for nodes"
   ]
  },
  {
   "cell_type": "code",
   "execution_count": 5,
   "metadata": {},
   "outputs": [],
   "source": [
    "defn_df = pd.read_csv(\"phecode_definitions1.2.csv\")\n",
    "\n",
    "non_nan_cats = ['infectious diseases', 'other', 'neoplasms', 'endocrine/metabolic',\n",
    "       'hematopoietic', 'mental disorders', 'neurological',\n",
    "       'sense organs', 'circulatory system', 'respiratory', 'digestive',\n",
    "       'genitourinary', 'pregnancy complications', 'dermatologic',\n",
    "       'musculoskeletal', 'congenital anomalies', 'symptoms',\n",
    "       'injuries & poisonings']\n",
    "\n",
    "phecode_cats = ['sense organs', 'symptoms', 'hematopoietic', 'injuries & poisonings', 'other', \n",
    " 'mental disorders', 'respiratory', 'congenital anomalies', 'endocrine/metabolic',\n",
    " 'infectious diseases', 'neoplasms', 'genitourinary', 'digestive', 'pregnancy complications',\n",
    " 'circulatory system', 'dermatologic', 'neurological', 'musculoskeletal']\n",
    "\n",
    "df = pd.read_csv(\"PheMap_Mapped_Terminologies_1.1.csv\")\n",
    "\n",
    "icd_df = df.loc[df['SOURCE']=='ICD9CM']"
   ]
  },
  {
   "cell_type": "code",
   "execution_count": 6,
   "metadata": {},
   "outputs": [
    {
     "name": "stdout",
     "output_type": "stream",
     "text": [
      "sense organs (35607, 5)\n",
      "symptoms (8990, 5)\n",
      "hematopoietic (13067, 5)\n",
      "injuries & poisonings (24748, 5)\n",
      "other (6150, 5)\n",
      "mental disorders (22992, 5)\n",
      "respiratory (21666, 5)\n",
      "congenital anomalies (10948, 5)\n",
      "endocrine/metabolic (25757, 5)\n",
      "infectious diseases (16599, 5)\n",
      "neoplasms (21657, 5)\n",
      "genitourinary (23626, 5)\n",
      "digestive (25468, 5)\n",
      "pregnancy complications (15324, 5)\n",
      "circulatory system (33869, 5)\n",
      "dermatologic (16560, 5)\n",
      "neurological (20926, 5)\n",
      "musculoskeletal (21610, 5)\n"
     ]
    },
    {
     "data": {
      "text/plain": [
       "(365564, 5)"
      ]
     },
     "execution_count": 6,
     "metadata": {},
     "output_type": "execute_result"
    }
   ],
   "source": [
    "icd_df_list = []\n",
    "for cat in phecode_cats:\n",
    "    if cat == 'other':\n",
    "        non_nan_inds = defn_df.loc[defn_df['category'].isin(non_nan_cats)]['phecode'].unique()  \n",
    "        cat_df = icd_df.loc[~icd_df['PHECODE'].isin(non_nan_inds)] \n",
    "    else:\n",
    "        cat_df = icd_df.loc[icd_df['PHECODE'].isin(defn_df.loc[defn_df['category'] == cat]['phecode'].unique())]\n",
    "    icd_df_list.append(cat_df)\n",
    "    print(cat, cat_df.shape)\n",
    "    \n",
    "icd_phemap_df = pd.concat(icd_df_list)\n",
    "icd_phemap_df.shape"
   ]
  },
  {
   "cell_type": "code",
   "execution_count": 7,
   "metadata": {},
   "outputs": [
    {
     "data": {
      "text/plain": [
       "(727696, 5)"
      ]
     },
     "execution_count": 7,
     "metadata": {},
     "output_type": "execute_result"
    }
   ],
   "source": [
    "df = pd.concat([icd_phemap_df,\n",
    "    df.loc[df['SOURCE'] == 'LNC'],\n",
    "    df.loc[df['SOURCE'] == 'SNOMEDCT_US'],\n",
    "    df.loc[df['SOURCE'] == 'RXNORM'],\n",
    "    df.loc[df['SOURCE'] == 'CPT']])\n",
    "\n",
    "df.shape"
   ]
  },
  {
   "cell_type": "code",
   "execution_count": 8,
   "metadata": {},
   "outputs": [],
   "source": [
    "node_df = df[['CODE', 'SOURCE', 'DESCRIPTION']].drop_duplicates()\n",
    "\n",
    "# add nodes not listed in phemap\n",
    "relation_df = pd.read_csv(\"Phecode_Relationship.csv\")\n",
    "defn_df = pd.read_csv(\"phecode_definitions1.2.csv\")\n",
    "\n",
    "all_phecode_df = defn_df[['phecode', 'phenotype']]\n",
    "all_phecode_df.columns = ['CODE', 'DESCRIPTION']\n",
    "all_phecode_df=all_phecode_df.assign(SOURCE='PHECODE')"
   ]
  },
  {
   "cell_type": "code",
   "execution_count": 9,
   "metadata": {},
   "outputs": [
    {
     "data": {
      "text/plain": [
       "array([1010.6])"
      ]
     },
     "execution_count": 9,
     "metadata": {},
     "output_type": "execute_result"
    }
   ],
   "source": [
    "# make sure not missing any phecodes in phemap\n",
    "df.loc[~df['PHECODE'].isin(all_phecode_df['CODE'])]['PHECODE'].unique()"
   ]
  },
  {
   "cell_type": "code",
   "execution_count": 10,
   "metadata": {},
   "outputs": [],
   "source": [
    "# add phecodes to node df\n",
    "missing_entry = pd.DataFrame({'CODE': [1010.6], 'SOURCE': ['PHECODE'],\n",
    "             'DESCRIPTION': [\"Persons encountering health services in circumstances related to reproduction\"]})\n",
    "node_df = pd.concat([node_df, all_phecode_df, missing_entry])    "
   ]
  },
  {
   "cell_type": "code",
   "execution_count": 11,
   "metadata": {},
   "outputs": [
    {
     "data": {
      "text/plain": [
       "(82113, 3)"
      ]
     },
     "execution_count": 11,
     "metadata": {},
     "output_type": "execute_result"
    }
   ],
   "source": [
    "node_df.shape"
   ]
  },
  {
   "cell_type": "markdown",
   "metadata": {},
   "source": [
    "#### Aggregate duplicate codes with multiple descriptions"
   ]
  },
  {
   "cell_type": "code",
   "execution_count": 12,
   "metadata": {},
   "outputs": [
    {
     "name": "stdout",
     "output_type": "stream",
     "text": [
      "ICD9CM\n",
      "LNC\n",
      "SNOMEDCT_US\n",
      "RXNORM\n",
      "CPT\n",
      "PHECODE\n"
     ]
    }
   ],
   "source": [
    "#\n",
    "# Identify nodes with duplicate descriptions\n",
    "#\n",
    "dup_code_dict = {}\n",
    "\n",
    "for source_type in node_df['SOURCE'].unique():\n",
    "    print(source_type)\n",
    "    node_count_df = node_df.query(\"SOURCE=='{}'\".format(source_type)).groupby('CODE').count().reset_index()\n",
    "\n",
    "    node_dup_df = node_count_df[node_count_df['DESCRIPTION'] > 1]\n",
    "\n",
    "    for i, row in node_dup_df.iterrows():\n",
    "        code = row['CODE']\n",
    "        dup_code_dict[(source_type, code)] = node_df.loc[(node_df['SOURCE'] == source_type) \n",
    "                                                    & (node_df['CODE'] == code)]['DESCRIPTION'].values\n",
    "# aggregate duplicates\n",
    "dupe_code_types = {}\n",
    "\n",
    "for source in node_df['SOURCE'].unique():\n",
    "    l = [x for (k, v),x in zip(dup_code_dict,dup_code_dict.values()) if k==source]\n",
    "    if len(l) > 0:\n",
    "        dupe_code_types[source] = np.concatenate(l)\n",
    "    else:\n",
    "        dupe_code_types[source] = []"
   ]
  },
  {
   "cell_type": "code",
   "execution_count": 13,
   "metadata": {},
   "outputs": [
    {
     "name": "stdout",
     "output_type": "stream",
     "text": [
      "ICD9CM\n",
      "LNC\n",
      "SNOMEDCT_US\n",
      "RXNORM\n",
      "CPT\n",
      "PHECODE\n"
     ]
    }
   ],
   "source": [
    "#\n",
    "# Identify duplicates based on duplicate codes\n",
    "#\n",
    "dup_desc_dict = {}\n",
    "\n",
    "for source_type in node_df['SOURCE'].unique():\n",
    "    print(source_type)\n",
    "    source_df = node_df.query(\"SOURCE=='{}'\".format(source_type))\n",
    "    \n",
    "    # remove descriptions already accounted for in duplicate codes\n",
    "    source_df = source_df.loc[~source_df['DESCRIPTION'].isin(dupe_code_types[source_type])]\n",
    "    \n",
    "    node_count_df = source_df.groupby('DESCRIPTION').count().reset_index()\n",
    "\n",
    "    node_dup_df = node_count_df[node_count_df['CODE'] > 1]\n",
    "\n",
    "    for i, row in node_dup_df.iterrows():\n",
    "        desc = row['DESCRIPTION']\n",
    "        dup_desc_dict[(source_type, desc)] = node_df.loc[(node_df['SOURCE'] == source_type) \n",
    "                                                    & (node_df['DESCRIPTION'] == desc)]['CODE'].values"
   ]
  },
  {
   "cell_type": "code",
   "execution_count": 16,
   "metadata": {},
   "outputs": [
    {
     "data": {
      "text/plain": [
       "[('LNC', '1'),\n",
       " ('LNC', '1,3 beta glucan'),\n",
       " ('LNC', '1,4-Dichlorobenzene'),\n",
       " ('LNC', '14-3-3 protein'),\n",
       " ('LNC', '17-Hydroxyprogesterone'),\n",
       " ('LNC', '1H'),\n",
       " ('LNC', '1st trimester'),\n",
       " ('LNC', '2'),\n",
       " ('LNC', '2H'),\n",
       " ('LNC', '2nd trimester'),\n",
       " ('LNC', '3-Methylcrotonyl-CoA carboxylase deficiency'),\n",
       " ('LNC', '4'),\n",
       " ('LNC', \"5'-Nucleotidase\"),\n",
       " ('LNC', '5-Hydroxytryptophan'),\n",
       " ('LNC', '6'),\n",
       " ('LNC', '8'),\n",
       " ('LNC', '???lead'),\n",
       " ('LNC', 'A'),\n",
       " ('LNC', 'A Ag'),\n",
       " ('LNC', 'ABO & Rh group'),\n",
       " ('LNC', 'ABXBACT'),\n",
       " ('LNC', 'ALPRAZolam'),\n",
       " ('LNC', 'AP'),\n",
       " ('LNC', 'ARIPiprazole'),\n",
       " ('LNC', 'ART'),\n",
       " ('LNC', 'AV shunt'),\n",
       " ('LNC', 'Abacavir'),\n",
       " ('LNC', 'Abdomen'),\n",
       " ('LNC', 'Abdomen+'),\n",
       " ('LNC', 'Abdomen+Chest'),\n",
       " ('LNC', 'Abdomen+Pelvis>Genitourinary tract'),\n",
       " ('LNC', 'Abdomen+Pelvis>Iliac artery'),\n",
       " ('LNC', 'Abdomen>Abdominal wall'),\n",
       " ('LNC', 'Abdomen>Kidney'),\n",
       " ('LNC', 'Abdomen>Liver'),\n",
       " ('LNC', 'Abdomen>Renal vein.left'),\n",
       " ('LNC', 'Abdomen>Renal vein.right'),\n",
       " ('LNC', 'Abdomen>Right upper quadrant'),\n",
       " ('LNC', 'Abdominal pain'),\n",
       " ('LNC', 'Abdominal vessels'),\n",
       " ('LNC', 'Abdominal wall'),\n",
       " ('LNC', 'Ability to reason'),\n",
       " ('LNC', 'Ability to think abstractly'),\n",
       " ('LNC', 'Abnormal'),\n",
       " ('LNC', 'Acamprosate'),\n",
       " ('LNC', 'Acanthocytes'),\n",
       " ('LNC', 'Acceleration'),\n",
       " ('LNC', 'Acceptable maneuver'),\n",
       " ('LNC', 'Acebutolol'),\n",
       " ('LNC', 'Acetaldehyde'),\n",
       " ('LNC', 'Acetaminophen'),\n",
       " ('LNC', 'Acetazolamide'),\n",
       " ('LNC', 'Acetoacetate'),\n",
       " ('LNC', 'Acetone'),\n",
       " ('LNC', 'Acetylcholine'),\n",
       " ('LNC', 'Acetylcholine receptor Ab'),\n",
       " ('LNC', 'Acetylcholinesterase'),\n",
       " ('LNC', 'Achilles'),\n",
       " ('LNC', 'Acid phosphatase.prostatic'),\n",
       " ('LNC', 'Acromioclavicular joint'),\n",
       " ('LNC', 'Acrylaldehyde'),\n",
       " ('LNC', 'Activated protein C resistance'),\n",
       " ('LNC', 'Activity intensity'),\n",
       " ('LNC', 'Activity level'),\n",
       " ('LNC', 'Acute kidney injury risk'),\n",
       " ('LNC', 'Acyclovir'),\n",
       " ('LNC', 'Acyl carnitine'),\n",
       " ('LNC', 'Acylcarnitine'),\n",
       " ('LNC', 'Adalimumab'),\n",
       " ('LNC', 'Add'),\n",
       " ('LNC', 'Additional'),\n",
       " ('LNC', 'Adefovir'),\n",
       " ('LNC', 'Adenine'),\n",
       " ('LNC', 'Adenosine deaminase'),\n",
       " ('LNC', 'Adenosine diphosphate'),\n",
       " ('LNC', 'Adenosine monophosphate deaminase'),\n",
       " ('LNC', 'Adenosine triphosphatase'),\n",
       " ('LNC', 'Adenosine triphosphate'),\n",
       " ('LNC', 'Adenovirus'),\n",
       " ('LNC', 'Adopted'),\n",
       " ('LNC', 'Adrenal gland'),\n",
       " ('LNC', 'Adult activity'),\n",
       " ('LNC', 'Adulterants'),\n",
       " ('LNC', 'Advance directive'),\n",
       " ('LNC', 'Adverse drug reaction'),\n",
       " ('LNC', 'Adverse event'),\n",
       " ('LNC', 'Aflatoxin'),\n",
       " ('LNC', 'Against medical advice note'),\n",
       " ('LNC', 'Age'),\n",
       " ('LNC', 'Age range at onset of disease'),\n",
       " ('LNC', 'Age when told have high blood pressure'),\n",
       " ('LNC', 'Agency'),\n",
       " ('LNC', 'Agoraphobias'),\n",
       " ('LNC', 'Air'),\n",
       " ('LNC', 'Airway'),\n",
       " ('LNC', 'Airway clearance technique performed'),\n",
       " ('LNC', 'Alanine aminotransferase'),\n",
       " ('LNC', 'Albumin'),\n",
       " ('LNC', 'Albuterol'),\n",
       " ('LNC', 'Alcohol'),\n",
       " ('LNC', 'Alcohol abuse'),\n",
       " ('LNC', 'Alcohol dehydrogenase'),\n",
       " ('LNC', 'Alcohol use'),\n",
       " ('LNC', 'Alcohol use disorder identification test'),\n",
       " ('LNC', 'Aldolase'),\n",
       " ('LNC', 'Aldosterone'),\n",
       " ('LNC', 'Aldosterone receptors'),\n",
       " ('LNC', 'Aldosterone/Renin'),\n",
       " ('LNC', 'Alert'),\n",
       " ('LNC', 'Alkaline phosphatase'),\n",
       " ('LNC', 'Allelic frequency'),\n",
       " ('LNC', 'Allopurinol'),\n",
       " ('LNC', 'Alpha 1 antitrypsin'),\n",
       " ('LNC', 'Alpha galactosidase A'),\n",
       " ('LNC', 'Alpha-1-Fetoprotein'),\n",
       " ('LNC', 'Altered level of consciousness'),\n",
       " ('LNC', 'Altitude'),\n",
       " ('LNC', 'Aluminum'),\n",
       " ('LNC', 'Alveolar ridge'),\n",
       " ('LNC', 'Alveolar ventilation'),\n",
       " ('LNC', \"Alzheimer's disease\"),\n",
       " ('LNC', 'Am fld space'),\n",
       " ('LNC', 'Amantadine'),\n",
       " ('LNC', 'Amblyopia'),\n",
       " ('LNC', 'Amikacin'),\n",
       " ('LNC', 'Amines.biogenic'),\n",
       " ('LNC', 'Amino acids'),\n",
       " ('LNC', 'Aminoglycoside'),\n",
       " ('LNC', 'Aminopyrine'),\n",
       " ('LNC', 'Aminosalicylate'),\n",
       " ('LNC', 'Amiodarone'),\n",
       " ('LNC', 'Amitriptyline'),\n",
       " ('LNC', 'Ammonia'),\n",
       " ('LNC', 'Amniocentesis'),\n",
       " ('LNC', 'Amniotic fluid'),\n",
       " ('LNC', 'Amniotic fluid index'),\n",
       " ('LNC', 'Amount'),\n",
       " ('LNC', 'Amoxicillin'),\n",
       " ('LNC', 'Amoxicillin+Clavulanate'),\n",
       " ('LNC', 'Amphetamine'),\n",
       " ('LNC', 'Amphetamines'),\n",
       " ('LNC', 'Amphotericin B'),\n",
       " ('LNC', 'Ampicillin'),\n",
       " ('LNC', 'Amylase'),\n",
       " ('LNC', 'Amyloid A'),\n",
       " ('LNC', 'Anabolic steroids'),\n",
       " ('LNC', 'Anakinra'),\n",
       " ('LNC', 'Analgesics'),\n",
       " ('LNC', 'Analgesics.non-narcotic'),\n",
       " ('LNC', 'Anaplasma phagocytophilum'),\n",
       " ('LNC', 'Anatomic part.*'),\n",
       " ('LNC', 'Androstanolone'),\n",
       " ('LNC', 'Androstenedione'),\n",
       " ('LNC', 'Anemia'),\n",
       " ('LNC', 'Anesthesia'),\n",
       " ('LNC', 'Anesthesiology'),\n",
       " ('LNC', 'Angioplasty'),\n",
       " ('LNC', 'Angiotensin II'),\n",
       " ('LNC', 'Angiotensin converting enzyme'),\n",
       " ('LNC', 'Anion gap'),\n",
       " ('LNC', 'Ankle'),\n",
       " ('LNC', 'Anorectal'),\n",
       " ('LNC', 'Anserine'),\n",
       " ('LNC', 'Anterior chamber angle'),\n",
       " ('LNC', 'Anterior segment'),\n",
       " ('LNC', 'Anthraquinone'),\n",
       " ('LNC', 'Anti-hyperglycemics'),\n",
       " ('LNC', 'Anticoagulant'),\n",
       " ('LNC', 'Anticonvulsants'),\n",
       " ('LNC', 'Antidepressants'),\n",
       " ('LNC', 'Antigens'),\n",
       " ('LNC', 'Antihistamines'),\n",
       " ('LNC', 'Antimicrobials'),\n",
       " ('LNC', 'Antioxidants'),\n",
       " ('LNC', 'Antiphospholipid syndrome'),\n",
       " ('LNC', 'Antipsychotics'),\n",
       " ('LNC', 'Antithrombin'),\n",
       " ('LNC', 'Anus'),\n",
       " ('LNC', 'Anxiety'),\n",
       " ('LNC', 'Anxiety disorder'),\n",
       " ('LNC', 'Anxiety symptoms'),\n",
       " ('LNC', 'Aorta'),\n",
       " ('LNC', 'Aorta ascending'),\n",
       " ('LNC', 'Aorta descending'),\n",
       " ('LNC', 'Aorta.abdominal'),\n",
       " ('LNC', 'Aorta.root'),\n",
       " ('LNC', 'Aorta.thoracic'),\n",
       " ('LNC', 'Aorta.thoracic.ascending'),\n",
       " ('LNC', 'Aortic arch'),\n",
       " ('LNC', 'Aortic root'),\n",
       " ('LNC', 'Aortic valve'),\n",
       " ('LNC', 'Apelin'),\n",
       " ('LNC', 'Aphasia'),\n",
       " ('LNC', 'Apheresis'),\n",
       " ('LNC', 'Apheresis.therapeutic'),\n",
       " ('LNC', 'Apixaban'),\n",
       " ('LNC', 'Apnea monitor'),\n",
       " ('LNC', 'Apolipoprotein A-I'),\n",
       " ('LNC', 'Apolipoprotein B'),\n",
       " ('LNC', 'Apolipoprotein B-100'),\n",
       " ('LNC', 'Apolipoprotein C-II'),\n",
       " ('LNC', 'Apolipoprotein E'),\n",
       " ('LNC', 'Apolipoprotein E4'),\n",
       " ('LNC', 'Appearance'),\n",
       " ('LNC', 'Appendix'),\n",
       " ('LNC', 'Appliances'),\n",
       " ('LNC', 'Are you able to do chores such as vacuuming or yard work'),\n",
       " ('LNC', 'Are you able to tie your shoelaces'),\n",
       " ('LNC', 'Are you able to trim your fingernails'),\n",
       " ('LNC', 'Are you currently pregnant'),\n",
       " ('LNC', 'Are you currently using any method of birth control'),\n",
       " ('LNC', 'Are you now taking insulin'),\n",
       " ('LNC', 'Are you susceptible to sunburn'),\n",
       " ('LNC', 'Are your symptoms worse at night'),\n",
       " ('LNC', 'Area'),\n",
       " ('LNC', 'Area 2'),\n",
       " ('LNC', 'Area of wound'),\n",
       " ('LNC', 'Argatroban'),\n",
       " ('LNC', 'Arginase'),\n",
       " ('LNC', 'Arginine'),\n",
       " ('LNC', 'Argininemia'),\n",
       " ('LNC', 'Arm span'),\n",
       " ('LNC', 'Arrhythmia'),\n",
       " ('LNC', 'Arsenate'),\n",
       " ('LNC', 'Arsenic'),\n",
       " ('LNC', 'Arsenic trioxide'),\n",
       " ('LNC', 'Arsenic.inorganic'),\n",
       " ('LNC', 'Arsenic.organic'),\n",
       " ('LNC', 'Arterial system'),\n",
       " ('LNC', 'Artery'),\n",
       " ('LNC', 'Artery.renal'),\n",
       " ('LNC', 'Arthritis'),\n",
       " ('LNC', 'Artifact'),\n",
       " ('LNC', 'Artificial cardiac pacemaker'),\n",
       " ('LNC', 'Asbestos'),\n",
       " ('LNC', 'Asian alone'),\n",
       " ('LNC', 'Aspartate aminotransferase'),\n",
       " ('LNC', 'Aspergillus fumigatus'),\n",
       " ('LNC', 'Aspergillus sp'),\n",
       " ('LNC', 'Aspirin usage'),\n",
       " ('LNC', 'Asthma'),\n",
       " ('LNC', 'Asthma action plan'),\n",
       " ('LNC', 'Astrovirus'),\n",
       " ('LNC', 'At what age did you begin having severe headaches'),\n",
       " ('LNC', 'Atmosphere'),\n",
       " ('LNC', 'Atomoxetine'),\n",
       " ('LNC', 'Atovaquone'),\n",
       " ('LNC', 'Atrial natriuretic factor'),\n",
       " ('LNC', 'Atropine'),\n",
       " ('LNC', 'Attachment level'),\n",
       " ('LNC', 'Atypical'),\n",
       " ('LNC', 'Auditory canal'),\n",
       " ('LNC', 'Auscultation'),\n",
       " ('LNC', 'Autism'),\n",
       " ('LNC', 'Autoantibodies'),\n",
       " ('LNC', 'Autoimmune disease'),\n",
       " ('LNC', 'Autoimmune diseases'),\n",
       " ('LNC', 'Autologous'),\n",
       " ('LNC', 'Automated'),\n",
       " ('LNC', 'Avascular necrosis'),\n",
       " ('LNC', 'Axial'),\n",
       " ('LNC', 'Axial length'),\n",
       " ('LNC', 'Axilla'),\n",
       " ('LNC', 'Axillary'),\n",
       " ('LNC', 'Axis'),\n",
       " ('LNC', 'Azithromycin'),\n",
       " ('LNC', 'B Ag'),\n",
       " ('LNC', 'B-cell'),\n",
       " ('LNC', 'BAL'),\n",
       " ('LNC', 'BCR'),\n",
       " ('LNC', 'BPAP activity'),\n",
       " ('LNC', 'BRFSS'),\n",
       " ('LNC', 'Bacillus anthracis'),\n",
       " ('LNC', 'Back'),\n",
       " ('LNC', 'Back+Spine'),\n",
       " ('LNC', 'Baclofen'),\n",
       " ('LNC', 'Bacteria'),\n",
       " ('LNC', 'Bacterial vaginosis'),\n",
       " ('LNC', 'Bacterial vaginosis whiff test'),\n",
       " ('LNC', 'Balance test'),\n",
       " ('LNC', 'Balancing - difficulty'),\n",
       " ('LNC', 'Barbiturate'),\n",
       " ('LNC', 'Barbiturates'),\n",
       " ('LNC', 'Barium'),\n",
       " ('LNC', 'Bartholin cyst'),\n",
       " ('LNC', 'Basic metabolic panel'),\n",
       " ('LNC', 'Basophils'),\n",
       " ('LNC', 'Because of your problem, do you feel frustrated'),\n",
       " ('LNC', 'Bedaquiline'),\n",
       " ('LNC', 'Behavior'),\n",
       " ('LNC', 'Behavioral symptoms'),\n",
       " ('LNC', 'Benzene'),\n",
       " ('LNC', 'Benzodiazepines'),\n",
       " ('LNC', 'Benzoylecgonine'),\n",
       " ('LNC', 'Benzyl alcohol'),\n",
       " ('LNC', 'Beryllium'),\n",
       " ('LNC', 'Besifloxacin'),\n",
       " ('LNC', 'Beta 2 globulin'),\n",
       " ('LNC', 'Beta 2 glycoprotein 1'),\n",
       " ('LNC', 'Beta blockers'),\n",
       " ('LNC', 'Beta endorphin'),\n",
       " ('LNC', 'Beta glucuronidase'),\n",
       " ('LNC', 'Beta hydroxybutyrate'),\n",
       " ('LNC', 'Beta-N-acetylhexosaminidase.A'),\n",
       " ('LNC', 'Beta-N-acetylhexosaminidase.B'),\n",
       " ('LNC', 'Betamethasone'),\n",
       " ('LNC', 'Bethanechol'),\n",
       " ('LNC', 'Bicarbonate'),\n",
       " ('LNC', 'Biceps'),\n",
       " ('LNC', 'Bilateral'),\n",
       " ('LNC', 'Bile'),\n",
       " ('LNC', 'Bile acid'),\n",
       " ('LNC', 'Biliary duct'),\n",
       " ('LNC', 'Biliary duct.common'),\n",
       " ('LNC', 'Biliary ducts'),\n",
       " ('LNC', 'Biliary tract'),\n",
       " ('LNC', 'Bilirubin'),\n",
       " ('LNC', 'Bilirubin excess'),\n",
       " ('LNC', 'Biological product'),\n",
       " ('LNC', 'Biopsy'),\n",
       " ('LNC', 'Biopsy.core needle'),\n",
       " ('LNC', 'Biotin'),\n",
       " ('LNC', 'Biotinidase'),\n",
       " ('LNC', 'Biotinidase deficiency'),\n",
       " ('LNC', 'Birth certificate'),\n",
       " ('LNC', 'Birth date'),\n",
       " ('LNC', 'Birth defects'),\n",
       " ('LNC', 'Birth registration date'),\n",
       " ('LNC', 'Births.live'),\n",
       " ('LNC', 'Births.preterm'),\n",
       " ('LNC', 'Births.term'),\n",
       " ('LNC', 'Bis(chloromethyl)ether'),\n",
       " ('LNC', 'Bisacodyl'),\n",
       " ('LNC', 'Bismuth'),\n",
       " ('LNC', 'Bivalirudin'),\n",
       " ('LNC', 'Bizarre behavior'),\n",
       " ('LNC', 'Bizarre delusions'),\n",
       " ('LNC', 'Black'),\n",
       " ('LNC', 'Bladder and bowel'),\n",
       " ('LNC', 'Bladder cells'),\n",
       " ('LNC', 'Bleeding on probing'),\n",
       " ('LNC', 'Bleeding risk'),\n",
       " ('LNC', 'Bleeding time'),\n",
       " ('LNC', 'Blood'),\n",
       " ('LNC', 'Blood draw'),\n",
       " ('LNC', 'Blood flow'),\n",
       " ('LNC', 'Blood group Ag'),\n",
       " ('LNC', 'Blood loss'),\n",
       " ('LNC', 'Blood pressure'),\n",
       " ('LNC', 'Blood pressure device'),\n",
       " ('LNC', 'Blood pressure home reading'),\n",
       " ('LNC', 'Blood transfusion'),\n",
       " ('LNC', 'Blood volume'),\n",
       " ('LNC', 'Body fat mass'),\n",
       " ('LNC', 'Body fat percentage'),\n",
       " ('LNC', 'Body height'),\n",
       " ('LNC', 'Body mass index'),\n",
       " ('LNC', 'Body part'),\n",
       " ('LNC', 'Body site'),\n",
       " ('LNC', 'Body surface area'),\n",
       " ('LNC', 'Body temperature'),\n",
       " ('LNC', 'Body weight'),\n",
       " ('LNC', 'Body weight ideal'),\n",
       " ('LNC', 'Bone'),\n",
       " ('LNC', 'Bone age'),\n",
       " ('LNC', 'Bone density'),\n",
       " ('LNC', 'Bone marrow'),\n",
       " ('LNC', 'Bones'),\n",
       " ('LNC', 'Bones.long'),\n",
       " ('LNC', 'Booster date'),\n",
       " ('LNC', 'Boron'),\n",
       " ('LNC', 'Borrelia afzelii'),\n",
       " ('LNC', 'Borrelia burgdorferi'),\n",
       " ('LNC', 'Borrelia garinii'),\n",
       " ('LNC', 'Borrelia hermsii'),\n",
       " ('LNC', 'Borrelia mayonii'),\n",
       " ('LNC', 'Bowel'),\n",
       " ('LNC', 'Bowel movement frequency'),\n",
       " ('LNC', 'Brachial artery'),\n",
       " ('LNC', 'Brachiocephalic artery'),\n",
       " ('LNC', 'Brachioradialis'),\n",
       " ('LNC', 'Bradykinin'),\n",
       " ('LNC', 'Brain'),\n",
       " ('LNC', 'Brain stem reflexes'),\n",
       " ('LNC', 'Brain veins'),\n",
       " ('LNC', 'Brand name'),\n",
       " ('LNC', 'Breast'),\n",
       " ('LNC', 'Breast tumor'),\n",
       " ('LNC', 'Breast.bilateral'),\n",
       " ('LNC', 'Breast.bilateral &&'),\n",
       " ('LNC', 'Breast.duct'),\n",
       " ('LNC', 'Breasts'),\n",
       " ('LNC', 'Breath sounds'),\n",
       " ('LNC', 'Breaths'),\n",
       " ('LNC', 'Breslow thickness'),\n",
       " ('LNC', 'Broken bone'),\n",
       " ('LNC', 'Bromocriptine'),\n",
       " ('LNC', 'Bronchoscopy'),\n",
       " ('LNC', 'Brother'),\n",
       " ('LNC', 'Buccal'),\n",
       " ('LNC', 'Buccal smear'),\n",
       " ('LNC', 'Budesonide'),\n",
       " ('LNC', 'Bumetanide'),\n",
       " ('LNC', 'Bupivacaine'),\n",
       " ('LNC', 'Buprenorphine'),\n",
       " ('LNC', 'Bupropion'),\n",
       " ('LNC', 'Burn'),\n",
       " ('LNC', 'Buspirone'),\n",
       " ('LNC', 'Busulfan'),\n",
       " ('LNC', 'Butalbital'),\n",
       " ('LNC', 'Buttocks'),\n",
       " ('LNC', 'C'),\n",
       " ('LNC', 'C Ab'),\n",
       " ('LNC', 'C Ag'),\n",
       " ('LNC', 'C reactive protein'),\n",
       " ('LNC', 'CARD.PROC'),\n",
       " ('LNC', 'CARDIO-PULM'),\n",
       " ('LNC', 'CBC WO Differential panel'),\n",
       " ('LNC', 'CD105'),\n",
       " ('LNC', 'CD117'),\n",
       " ('LNC', 'CD117 Ag'),\n",
       " ('LNC', 'CD15'),\n",
       " ('LNC', 'CD15 Ag'),\n",
       " ('LNC', 'CD19'),\n",
       " ('LNC', 'CD19 Ag'),\n",
       " ('LNC', 'CD20'),\n",
       " ('LNC', 'CD20 Ag'),\n",
       " ('LNC', 'CD21'),\n",
       " ('LNC', 'CD21 Ag'),\n",
       " ('LNC', 'CD227 Ag'),\n",
       " ('LNC', 'CD29'),\n",
       " ('LNC', 'CD30'),\n",
       " ('LNC', 'CD30 Ag'),\n",
       " ('LNC', 'CD34'),\n",
       " ('LNC', 'CD34 Ag'),\n",
       " ('LNC', 'CD35'),\n",
       " ('LNC', 'CD35 Ag'),\n",
       " ('LNC', 'CD4'),\n",
       " ('LNC', 'CD4 Ag'),\n",
       " ('LNC', 'CD40'),\n",
       " ('LNC', 'CD41'),\n",
       " ('LNC', 'CD44'),\n",
       " ('LNC', 'CD45RA'),\n",
       " ('LNC', 'CD5'),\n",
       " ('LNC', 'CD5 Ag'),\n",
       " ('LNC', 'CD52'),\n",
       " ('LNC', 'CD55'),\n",
       " ('LNC', 'CD59'),\n",
       " ('LNC', 'CD66e'),\n",
       " ('LNC', 'CD66e Ag'),\n",
       " ('LNC', 'CD68'),\n",
       " ('LNC', 'CD68 Ag'),\n",
       " ('LNC', 'CD73'),\n",
       " ('LNC', 'CD8'),\n",
       " ('LNC', 'CD8 Ag'),\n",
       " ('LNC', 'CD95'),\n",
       " ('LNC', 'CDC'),\n",
       " ('LNC', 'CFTR gene mutation analysis'),\n",
       " ('LNC', 'CHAL'),\n",
       " ('LNC', 'CHEM'),\n",
       " ('LNC', 'CISplatin'),\n",
       " ('LNC', 'CLIN'),\n",
       " ('LNC', 'CLIN.RISK'),\n",
       " ('LNC', 'CLINTRIAL'),\n",
       " ('LNC', 'COAG'),\n",
       " ('LNC', 'COPD'),\n",
       " ('LNC', 'CSF'),\n",
       " ('LNC', 'CT'),\n",
       " ('LNC', 'CVS'),\n",
       " ('LNC', 'CYTO'),\n",
       " ('LNC', 'Cadmium'),\n",
       " ('LNC', 'Caffeine'),\n",
       " ('LNC', 'Caffeine intake'),\n",
       " ('LNC', 'Calcaneus'),\n",
       " ('LNC', 'Calcidiol'),\n",
       " ('LNC', 'Calciferol'),\n",
       " ('LNC', 'Calciferol binding proteins'),\n",
       " ('LNC', 'Calcitonin'),\n",
       " ('LNC', 'Calcitriol'),\n",
       " ('LNC', 'Calcium'),\n",
       " ('LNC', 'Calcium oxalate'),\n",
       " ('LNC', 'Calcium oxalate dihydrate crystals'),\n",
       " ('LNC', 'Calcium/Albumin'),\n",
       " ('LNC', 'Calcium/Osmolality'),\n",
       " ('LNC', 'Calcium/Oxalate'),\n",
       " ('LNC', 'Calcium/Phosphate'),\n",
       " ('LNC', 'Calculus'),\n",
       " ('LNC', 'Calf'),\n",
       " ('LNC', 'Calicivirus'),\n",
       " ('LNC', 'Calprotectin'),\n",
       " ('LNC', 'Campylobacter'),\n",
       " ('LNC', 'Canal'),\n",
       " ('LNC', 'Cancer'),\n",
       " ('LNC', 'Cancer Ag 125'),\n",
       " ('LNC', 'Cancer Ag 15-3'),\n",
       " ('LNC', 'Cancer Ag 19-9'),\n",
       " ('LNC', 'Cancer diagnosis'),\n",
       " ('LNC', 'Cancer registry'),\n",
       " ('LNC', 'Cancer screening'),\n",
       " ('LNC', 'Cancer treatment'),\n",
       " ('LNC', 'Cancer-associated gene Ab'),\n",
       " ('LNC', 'Cannabidiol'),\n",
       " ('LNC', 'Capillary bed'),\n",
       " ('LNC', 'Captopril'),\n",
       " ('LNC', 'Carbamoyl phosphate synthetase'),\n",
       " ('LNC', 'Carbamoyl phosphate synthetase(ammonia)'),\n",
       " ('LNC', 'Carbapenem'),\n",
       " ('LNC', 'Carbenicillin'),\n",
       " ('LNC', 'Carbidopa'),\n",
       " ('LNC', 'Carbohydrates'),\n",
       " ('LNC', 'Carbon dioxide'),\n",
       " ('LNC', 'Carbon dioxide production'),\n",
       " ('LNC', 'Carbon monoxide'),\n",
       " ('LNC', 'Carbon tetrachloride'),\n",
       " ('LNC', 'Carbonate'),\n",
       " ('LNC', 'Carboxyhemoglobin'),\n",
       " ('LNC', 'Carcinoembryonic Ag'),\n",
       " ('LNC', 'Cardiac arrest'),\n",
       " ('LNC', 'Cardiac biomarkers'),\n",
       " ('LNC', 'Cardiac catheterization'),\n",
       " ('LNC', 'Cardiac echo'),\n",
       " ('LNC', 'Cardiac enzymes'),\n",
       " ('LNC', 'Cardiac output'),\n",
       " ('LNC', 'Cardiac pacemaker prosthetic'),\n",
       " ('LNC', 'Cardiac rehabilitation treatment'),\n",
       " ('LNC', 'Cardiac rhythm monitoring'),\n",
       " ('LNC', 'Cardiolipin Ab'),\n",
       " ('LNC', 'Cardiolipin Ab.IgG'),\n",
       " ('LNC', 'Cardiomyopathy'),\n",
       " ('LNC', 'Cardiovascular'),\n",
       " ('LNC', 'Cardiovascular disease'),\n",
       " ('LNC', 'Cardiovascular system'),\n",
       " ('LNC', 'Care setting'),\n",
       " ('LNC', 'Caries risk'),\n",
       " ('LNC', 'Carnitine'),\n",
       " ('LNC', 'Carnitine uptake defect'),\n",
       " ('LNC', 'Carnitine uptake deficiency'),\n",
       " ('LNC', 'Carotene'),\n",
       " ('LNC', 'Carotid artery'),\n",
       " ('LNC', 'Carotid artery.external'),\n",
       " ('LNC', 'Carpal tunnel'),\n",
       " ('LNC', 'Case report'),\n",
       " ('LNC', 'Catalase'),\n",
       " ('LNC', 'Cataract'),\n",
       " ('LNC', 'Cataracts'),\n",
       " ('LNC', 'Catatonia'),\n",
       " ('LNC', 'Catecholamines'),\n",
       " ('LNC', 'Cathartic laxatives'),\n",
       " ('LNC', 'Cathepsin L'),\n",
       " ('LNC', 'Catheter'),\n",
       " ('LNC', 'Cause of death.secondary'),\n",
       " ('LNC', 'Cause of death.underlying'),\n",
       " ('LNC', 'Cause of injury'),\n",
       " ('LNC', 'Cause of menopause if other'),\n",
       " ('LNC', 'Cefaclor'),\n",
       " ('LNC', 'Cefadroxil'),\n",
       " ('LNC', 'Cefdinir'),\n",
       " ('LNC', 'Cefepime'),\n",
       " ('LNC', 'Cefixime'),\n",
       " ('LNC', 'Cefotaxime'),\n",
       " ('LNC', 'Cefprozil'),\n",
       " ('LNC', 'Cefuroxime'),\n",
       " ('LNC', 'Celecoxib'),\n",
       " ('LNC', 'Celiac artery'),\n",
       " ('LNC', 'Celiac trunk artery'),\n",
       " ('LNC', 'Cell count panel'),\n",
       " ('LNC', 'Cells'),\n",
       " ('LNC', 'Cells.CD3+CD4+'),\n",
       " ('LNC', 'Cellular material'),\n",
       " ('LNC', 'Central corneal thickness'),\n",
       " ('LNC', 'Cephalexin'),\n",
       " ('LNC', 'Cerebellum'),\n",
       " ('LNC', 'Cerebral artery'),\n",
       " ('LNC', 'Cerebral artery anterior'),\n",
       " ('LNC', 'Cerebral artery middle'),\n",
       " ('LNC', 'Cerebral cortex'),\n",
       " ('LNC', 'Cerebral palsy'),\n",
       " ('LNC', 'Cerebral ventricles'),\n",
       " ('LNC', 'Cerebrovascular accident'),\n",
       " ('LNC', 'Cerebrum'),\n",
       " ('LNC', 'Certolizumab'),\n",
       " ('LNC', 'Ceruloplasmin'),\n",
       " ('LNC', 'Cerumen'),\n",
       " ('LNC', 'Cervical mucus'),\n",
       " ('LNC', 'Cervix'),\n",
       " ('LNC', 'Change'),\n",
       " ('LNC', 'Changes in appetite'),\n",
       " ('LNC', 'Changes in sleeping patterns'),\n",
       " ('LNC', 'Charcoal'),\n",
       " ('LNC', 'Checklist'),\n",
       " ('LNC', 'Cheese'),\n",
       " ('LNC', 'Chemical'),\n",
       " ('LNC', 'Chemotherapy'),\n",
       " ('LNC', 'Chest'),\n",
       " ('LNC', 'Chest && Abdomen'),\n",
       " ('LNC', 'Chest pain'),\n",
       " ('LNC', 'Chest tube'),\n",
       " ('LNC', 'Chest vessels'),\n",
       " ('LNC', 'Chest wall'),\n",
       " ('LNC', 'Chest+Abdomen'),\n",
       " ('LNC', 'Chest+Abdomen>Azygos vein'),\n",
       " ('LNC', 'Chest+Lungs'),\n",
       " ('LNC', 'Chest>Airway'),\n",
       " ('LNC', 'Chest>Aortic valve'),\n",
       " ('LNC', 'Chest>Axilla'),\n",
       " ('LNC', 'Chest>Brachiocephalic artery'),\n",
       " ('LNC', 'Chest>Chest veins'),\n",
       " ('LNC', 'Chest>Clavicle'),\n",
       " ('LNC', 'Chest>Ribs'),\n",
       " ('LNC', 'Chest>Ribs.right'),\n",
       " ('LNC', 'Chest>Scapula'),\n",
       " ('LNC', 'Chest>Sternoclavicular joint'),\n",
       " ('LNC', 'Chest>Sternoclavicular joints'),\n",
       " ('LNC', 'Chest>Sternum'),\n",
       " ('LNC', 'Chest>Thymus gland'),\n",
       " ('LNC', 'Child vision problem'),\n",
       " ('LNC', 'Childs age at reference date'),\n",
       " ('LNC', 'Chlamydia'),\n",
       " ('LNC', 'Chlamydia trachomatis'),\n",
       " ('LNC', 'Chlamydophila pneumoniae'),\n",
       " ('LNC', 'Chlamydophila psittaci'),\n",
       " ('LNC', 'Chloramphenicol'),\n",
       " ('LNC', 'Chlorate'),\n",
       " ('LNC', 'Chloride'),\n",
       " ('LNC', 'Chloride intake'),\n",
       " ('LNC', 'Chlorine'),\n",
       " ('LNC', 'Chloroquine'),\n",
       " ('LNC', 'Chlorpropamide'),\n",
       " ('LNC', 'Chlorpyrifos'),\n",
       " ('LNC', 'Chlorthalidone'),\n",
       " ('LNC', 'Cholecalciferol'),\n",
       " ('LNC', 'Cholecystokinin'),\n",
       " ('LNC', 'Cholesterol'),\n",
       " ('LNC', 'Cholesterol crystals'),\n",
       " ('LNC', 'Cholesterol esters'),\n",
       " ('LNC', 'Cholesterol sulfate'),\n",
       " ('LNC', 'Cholesterol.in LDL'),\n",
       " ('LNC', 'Cholesterol.in VLDL'),\n",
       " ('LNC', 'Cholesterol.total'),\n",
       " ('LNC', 'Chondroitin sulfate'),\n",
       " ('LNC', 'Chorion'),\n",
       " ('LNC', 'Chromium'),\n",
       " ('LNC', 'Chromogranin A'),\n",
       " ('LNC', 'Chromosome'),\n",
       " ('LNC', 'Chromosome analysis'),\n",
       " ('LNC', 'Chronic pain'),\n",
       " ('LNC', 'Chylomicrons'),\n",
       " ('LNC', 'Chymopapain'),\n",
       " ('LNC', 'Cidofovir'),\n",
       " ('LNC', 'Cilastatin'),\n",
       " ('LNC', 'Cimetidine'),\n",
       " ('LNC', 'Ciprofloxacin'),\n",
       " ('LNC', 'Circulatory system'),\n",
       " ('LNC', 'Circumference'),\n",
       " ('LNC', 'Cisapride'),\n",
       " ('LNC', 'Citalopram'),\n",
       " ('LNC', 'Citrulline'),\n",
       " ('LNC', 'City'),\n",
       " ('LNC', 'Clarithromycin'),\n",
       " ('LNC', 'Class'),\n",
       " ('LNC', 'Classical galactosemia'),\n",
       " ('LNC', 'Clavicle'),\n",
       " ('LNC', 'Clavicle.diaphysis'),\n",
       " ('LNC', 'Clavulanate'),\n",
       " ('LNC', 'Climbing stairs'),\n",
       " ('LNC', 'Climbing stairs - difficulty'),\n",
       " ('LNC', 'Clindamycin'),\n",
       " ('LNC', 'Clinical data'),\n",
       " ('LNC', 'Clinical finding'),\n",
       " ('LNC', 'Clinical impression'),\n",
       " ('LNC', 'Clinical presentation'),\n",
       " ('LNC', 'Clofazimine'),\n",
       " ('LNC', 'Clofibrate'),\n",
       " ('LNC', 'Clomipramine'),\n",
       " ('LNC', 'Closing time'),\n",
       " ('LNC', 'Clostridioides difficile'),\n",
       " ('LNC', 'Clostridioides difficile toxin A'),\n",
       " ('LNC', 'Clostridium botulinum'),\n",
       " ('LNC', 'Clostridium botulinum toxin'),\n",
       " ('LNC', 'Clostridium botulinum toxin A'),\n",
       " ('LNC', 'Clostridium perfringens'),\n",
       " ('LNC', 'Clot'),\n",
       " ('LNC', 'Clot formation'),\n",
       " ('LNC', 'Clotrimazole'),\n",
       " ('LNC', 'Coagulation'),\n",
       " ('LNC', 'Coagulation factor IX'),\n",
       " ('LNC', 'Coagulation factor VIII Ab'),\n",
       " ('LNC', 'Coagulation factor X'),\n",
       " ('LNC', 'Coagulation factor.extrinsic pathway'),\n",
       " ('LNC', 'Coagulum retraction'),\n",
       " ('LNC', 'Cobalt'),\n",
       " ('LNC', 'Cocaethylene'),\n",
       " ('LNC', 'Cocaine'),\n",
       " ('LNC', 'Coccidioides immitis'),\n",
       " ('LNC', 'Coccyx'),\n",
       " ('LNC', 'Codeine'),\n",
       " ('LNC', 'Cognitive impairment'),\n",
       " ('LNC', 'Coinfection'),\n",
       " ('LNC', 'Colchicine'),\n",
       " ('LNC', 'Cold agglutinin'),\n",
       " ('LNC', 'Collagen type 2 Ab'),\n",
       " ('LNC', 'Collagenase'),\n",
       " ('LNC', 'Collection date'),\n",
       " ('LNC', 'Colloid oncotic pressure'),\n",
       " ('LNC', 'Colon'),\n",
       " ('LNC', 'Colonoscopy'),\n",
       " ('LNC', 'Color'),\n",
       " ('LNC', 'Color vision'),\n",
       " ('LNC', 'Communication'),\n",
       " ('LNC', 'Community'),\n",
       " ('LNC', 'Comorbid condition'),\n",
       " ('LNC', 'Complaint'),\n",
       " ('LNC', 'Complement C1 esterase inhibitor'),\n",
       " ('LNC', 'Complement C4'),\n",
       " ('LNC', 'Complement C4b binding protein'),\n",
       " ('LNC', 'Complement C5a'),\n",
       " ('LNC', 'Complement decay accelerating factor'),\n",
       " ('LNC', 'Complement factor B'),\n",
       " ('LNC', 'Complement factor D'),\n",
       " ('LNC', 'Complement factor H'),\n",
       " ('LNC', 'Complement membrane attack complex (C5b-C6-C7-C8-C9n)'),\n",
       " ('LNC', 'Complement receptor 1'),\n",
       " ('LNC', 'Complement receptor 2'),\n",
       " ('LNC', 'Complement receptor 3'),\n",
       " ('LNC', 'Complement receptor 4'),\n",
       " ('LNC', 'Complex'),\n",
       " ('LNC', 'Complex variant type'),\n",
       " ('LNC', 'Composition'),\n",
       " ('LNC', 'Concentration'),\n",
       " ('LNC', 'Condition causing difficulty with breathing'),\n",
       " ('LNC', 'Conduction'),\n",
       " ('LNC', 'Confusion'),\n",
       " ('LNC', 'Congenital adrenal hyperplasia'),\n",
       " ('LNC', 'Congenital cranial dysinnervation syndrome (CCDS) suspected'),\n",
       " ('LNC', 'Congenital hypothyroidism'),\n",
       " ('LNC', 'Connective tissue growth factor'),\n",
       " ('LNC', 'Conscious sedation'),\n",
       " ('LNC', 'Consistency'),\n",
       " ('LNC', 'Constipation'),\n",
       " ('LNC', 'Contact lens'),\n",
       " ('LNC', 'Contact name'),\n",
       " ('LNC', 'Contraindication'),\n",
       " ('LNC', 'Contrast'),\n",
       " ('LNC', 'Contrast sensitivity'),\n",
       " ('LNC', 'Convergence'),\n",
       " ('LNC', 'Coordination'),\n",
       " ('LNC', 'Copper'),\n",
       " ('LNC', 'Coproporphyrin'),\n",
       " ('LNC', 'Coproporphyrin 3'),\n",
       " ('LNC', 'Coproporphyrinogen oxidase'),\n",
       " ('LNC', 'Core'),\n",
       " ('LNC', 'Cornea'),\n",
       " ('LNC', 'Cornea thickness'),\n",
       " ('LNC', 'Cornea/Conjunctiva'),\n",
       " ('LNC', 'Corneal curvature'),\n",
       " ('LNC', 'Coronary arteries'),\n",
       " ('LNC', 'Coronary artery bypass graft surgery'),\n",
       " ('LNC', 'Coronary sinus'),\n",
       " ('LNC', 'Correction since'),\n",
       " ('LNC', 'Corticotropin'),\n",
       " ('LNC', 'Corticotropin releasing hormone'),\n",
       " ('LNC', 'Cortisol'),\n",
       " ('LNC', 'Cortisol/Cortisone'),\n",
       " ('LNC', 'Cortisone'),\n",
       " ('LNC', 'Cosmetic'),\n",
       " ('LNC', 'Country'),\n",
       " ('LNC', 'County'),\n",
       " ('LNC', 'Course of disorder'),\n",
       " ('LNC', 'Coxiella burnetii'),\n",
       " ('LNC', 'Cranium'),\n",
       " ('LNC', 'Creatine kinase'),\n",
       " ('LNC', 'Creatine kinase isoenzymes'),\n",
       " ('LNC', 'Creatine kinase.MB'),\n",
       " ('LNC', 'Creatinine'),\n",
       " ('LNC', 'Creatinine/Urea nitrogen'),\n",
       " ('LNC', 'Crowded teeth'),\n",
       " ('LNC', 'Crown'),\n",
       " ('LNC', 'Cryoglobulin'),\n",
       " ('LNC', 'Cryoglobulin type'),\n",
       " ('LNC', 'Cryptococcus neoformans'),\n",
       " ('LNC', 'Cryptosporidium'),\n",
       " ('LNC', 'Cryptosporidium parvum'),\n",
       " ('LNC', 'Cryptosporidium sp'),\n",
       " ('LNC', 'Crystals'),\n",
       " ('LNC', 'Ctp'),\n",
       " ('LNC', 'Culture'),\n",
       " ('LNC', 'Cyanocobalamin'),\n",
       " ('LNC', 'Cyclic citrullinated peptide Ab'),\n",
       " ('LNC', 'Cyclobenzaprine'),\n",
       " ('LNC', 'Cyclophosphamide'),\n",
       " ('LNC', 'Cyclospora'),\n",
       " ('LNC', 'Cyclospora cayetanensis'),\n",
       " ('LNC', 'Cyclosporine'),\n",
       " ('LNC', 'Cylinder'),\n",
       " ('LNC', 'Cyproheptadine'),\n",
       " ('LNC', 'Cystathionine'),\n",
       " ('LNC', 'Cystathionine beta synthase'),\n",
       " ('LNC', 'Cysteine'),\n",
       " ('LNC', 'Cystic fibrosis'),\n",
       " ('LNC', 'Cystine'),\n",
       " ('LNC', 'Cystinyl aminopeptidase'),\n",
       " ('LNC', 'Cytarabine'),\n",
       " ('LNC', 'Cytochrome B5 reductase'),\n",
       " ('LNC', 'Cytochrome C oxidase'),\n",
       " ('LNC', 'Cytokines'),\n",
       " ('LNC', 'Cytology'),\n",
       " ('LNC', 'Cytomegalovirus'),\n",
       " ('LNC', 'Cytoplasmic Ab'),\n",
       " ('LNC', 'Cytosine'),\n",
       " ('LNC', 'D NOS Ag'),\n",
       " ('LNC', 'D-pseudoephedrine'),\n",
       " ('LNC', 'DAPTOmycin'),\n",
       " ('LNC', 'DENTAL'),\n",
       " ('LNC', 'DEVICES'),\n",
       " ('LNC', 'DNA'),\n",
       " ('LNC', 'DNA change'),\n",
       " ('LNC', 'DOXOrubicin'),\n",
       " ('LNC', 'DULoxetine'),\n",
       " ('LNC', 'DXA'),\n",
       " ('LNC', 'Dabigatran'),\n",
       " ('LNC', 'Dairy product'),\n",
       " ('LNC', 'Danazol'),\n",
       " ('LNC', 'Dantrolene'),\n",
       " ('LNC', 'Dapsone'),\n",
       " ('LNC', 'Date'),\n",
       " ('LNC', 'Date and time'),\n",
       " ('LNC', 'Date and time of surgery'),\n",
       " ('LNC', 'Date catheter placement'),\n",
       " ('LNC', 'Date closed'),\n",
       " ('LNC', 'Date diagnosis confirmed'),\n",
       " ('LNC', 'Date dialysis session'),\n",
       " ('LNC', 'Date last dialysis treatment'),\n",
       " ('LNC', 'Date last dose'),\n",
       " ('LNC', 'Date last live birth'),\n",
       " ('LNC', 'Date last prenatal visit'),\n",
       " ('LNC', 'Date last reaction'),\n",
       " ('LNC', 'Date next dose'),\n",
       " ('LNC', 'Date of analysis'),\n",
       " ('LNC', 'Date of blood culture'),\n",
       " ('LNC', 'Date of complication'),\n",
       " ('LNC', 'Date of echocardiogram'),\n",
       " ('LNC', 'Date of fever onset'),\n",
       " ('LNC', 'Date of last evaluation'),\n",
       " ('LNC', 'Date of last eye examination'),\n",
       " ('LNC', 'Date of major illness or surgery'),\n",
       " ('LNC', 'Date of most recent non-treponemal test'),\n",
       " ('LNC', 'Date of most recent treponemal test'),\n",
       " ('LNC', 'Date of rash onset'),\n",
       " ('LNC', 'Date of skin test'),\n",
       " ('LNC', 'Date opened'),\n",
       " ('LNC', 'Date prescription changed'),\n",
       " ('LNC', 'Date recorded'),\n",
       " ('LNC', 'Date signed'),\n",
       " ('LNC', 'Date tick attached'),\n",
       " ('LNC', 'Date tick removed'),\n",
       " ('LNC', 'Date ultrasound'),\n",
       " ('LNC', 'Daughter'),\n",
       " ('LNC', 'Day'),\n",
       " ('LNC', 'Death registration date'),\n",
       " ('LNC', 'Debris'),\n",
       " ('LNC', 'Deceleration'),\n",
       " ('LNC', 'Decision-making'),\n",
       " ('LNC', 'Decreased appetite'),\n",
       " ('LNC', 'Deep'),\n",
       " ('LNC', 'Deep biopsy'),\n",
       " ('LNC', 'Deep vein thrombosis'),\n",
       " ('LNC', 'Dehydrated'),\n",
       " ('LNC', 'Dehydroepiandrosterone'),\n",
       " ('LNC', 'Dehydroepiandrosterone sulfate'),\n",
       " ('LNC', 'Delayed'),\n",
       " ('LNC', 'Delirium'),\n",
       " ('LNC', 'Delivery method'),\n",
       " ('LNC', 'Delusions'),\n",
       " ('LNC', 'Demeclocycline'),\n",
       " ('LNC', 'Dental'),\n",
       " ('LNC', 'Dental arch'),\n",
       " ('LNC', 'Dental plaque'),\n",
       " ('LNC', 'Dental procedure'),\n",
       " ('LNC', 'Dental prosthesis'),\n",
       " ('LNC', 'Dentin'),\n",
       " ('LNC', 'Deoxyhemoglobin'),\n",
       " ('LNC', 'Deoxypyridinoline'),\n",
       " ('LNC', 'Depression'),\n",
       " ('LNC', 'Depression symptoms'),\n",
       " ('LNC', 'Depth'),\n",
       " ('LNC', 'Dermatan sulfate'),\n",
       " ('LNC', 'Dermatology'),\n",
       " ('LNC', 'Desipramine'),\n",
       " ('LNC', 'Devices used'),\n",
       " ('LNC', 'Dexamethasone'),\n",
       " ('LNC', 'Dextroamphetamine'),\n",
       " ('LNC', 'Dextromethorphan'),\n",
       " ('LNC', 'Diabetes'),\n",
       " ('LNC', 'Diabetes mellitus'),\n",
       " ('LNC', 'Diagnosis.secondary'),\n",
       " ('LNC', 'Diagram'),\n",
       " ('LNC', 'Dialysis access'),\n",
       " ('LNC', 'Dialysis facility'),\n",
       " ('LNC', 'Diameter'),\n",
       " ('LNC', 'Diameter.transverse'),\n",
       " ('LNC', 'Diamorphine'),\n",
       " ('LNC', 'Diaphragm'),\n",
       " ('LNC', 'Diarrhea'),\n",
       " ('LNC', 'Diazoxide'),\n",
       " ('LNC', 'Dibucaine number'),\n",
       " ('LNC', 'Dichlorvos'),\n",
       " ('LNC', 'Diclofenac'),\n",
       " ('LNC', 'Dicloxacillin'),\n",
       " ('LNC', 'Dicyclomine'),\n",
       " ('LNC', 'Did some of these thoughts seem to you to be unreasonable'),\n",
       " ('LNC',\n",
       "  'Did using this drug cause you to have any other serious health problems'),\n",
       " ('LNC', 'Did you ever have cataract surgery'),\n",
       " ('LNC', 'Did you have symptoms of gallstones'),\n",
       " ('LNC', 'Did you have trouble seeing'),\n",
       " ('LNC', 'Did you receive treatment'),\n",
       " ('LNC', 'Didanosine'),\n",
       " ('LNC', 'Diet'),\n",
       " ('LNC', 'Dietary supplement'),\n",
       " ('LNC', 'Diethylstilbestrol'),\n",
       " ('LNC', 'Differential'),\n",
       " ('LNC', 'Differential panel'),\n",
       " ('LNC', 'Difficulty concentrating'),\n",
       " ('LNC', 'Digits'),\n",
       " ('LNC', 'Digoxin'),\n",
       " ('LNC', 'Dihydrolipoamide dehydrogenase'),\n",
       " ('LNC', 'Dimension'),\n",
       " ('LNC', 'Dimethylsulfoxide'),\n",
       " ('LNC', 'Diphenhydramine'),\n",
       " ('LNC', 'Diphenoxylate'),\n",
       " ('LNC', 'Diphenylhydramine'),\n",
       " ('LNC', 'Dipyridamole'),\n",
       " ('LNC', 'Diquat'),\n",
       " ('LNC', 'Discharge'),\n",
       " ('LNC', 'Disease'),\n",
       " ('LNC', 'Disease history'),\n",
       " ('LNC', 'Disopyramide'),\n",
       " ('LNC', 'Displacement'),\n",
       " ('LNC', 'Distance to access a patient'),\n",
       " ('LNC', 'Distractibility'),\n",
       " ('LNC', 'Disulfiram'),\n",
       " ('LNC', 'Diuretics'),\n",
       " ('LNC', 'Do you have freckles'),\n",
       " ('LNC', 'Do you have hemophilia'),\n",
       " ('LNC', 'Do you have nail psoriasis'),\n",
       " ('LNC', 'Do you have someone with whom you can do something enjoyable'),\n",
       " ('LNC', 'Do you need insulin'),\n",
       " ('LNC', 'Do you or your child have any of the following diseases'),\n",
       " ('LNC', 'Do you use dental floss'),\n",
       " ('LNC', 'Dobutamine'),\n",
       " ('LNC', 'Document summary'),\n",
       " ('LNC', 'Does it hurt when the bed covers touch your skin'),\n",
       " ('LNC', 'Does your child make normal eye-contact'),\n",
       " ('LNC', 'Does your child still have tonsils'),\n",
       " ('LNC', 'Does your mouth feel dry when eating'),\n",
       " ('LNC', 'Domestic violence'),\n",
       " ('LNC', 'Domperidone'),\n",
       " ('LNC', 'Donath Landsteiner Ab'),\n",
       " ('LNC', 'Donepezil'),\n",
       " ('LNC', 'Dopamine'),\n",
       " ('LNC', 'Doppler'),\n",
       " ('LNC', 'Dorsal penile artery'),\n",
       " ('LNC', 'Doxapram'),\n",
       " ('LNC', 'Doxepin'),\n",
       " ('LNC', 'Doxycycline'),\n",
       " ('LNC', 'Doxylamine'),\n",
       " ('LNC', 'Drainage'),\n",
       " ('LNC', 'Dressing'),\n",
       " ('LNC', 'Driving'),\n",
       " ('LNC', 'Drug'),\n",
       " ('LNC', 'Drug abuse'),\n",
       " ('LNC', 'Drug use'),\n",
       " ('LNC', 'Drugs of abuse'),\n",
       " ('LNC', 'Duodenum'),\n",
       " ('LNC', 'Duration'),\n",
       " ('LNC', 'Dysarthria'),\n",
       " ('LNC', 'Dyspnea'),\n",
       " ('LNC', 'ECG'),\n",
       " ('LNC', 'ECOG'),\n",
       " ('LNC', 'ED'),\n",
       " ('LNC', 'EKG'),\n",
       " ('LNC', 'EKG device'),\n",
       " ('LNC', 'EMS'),\n",
       " ('LNC', 'ENDO.GI'),\n",
       " ('LNC', 'ENT'),\n",
       " ('LNC', 'EPINEPHrine'),\n",
       " ('LNC', 'ESRD'),\n",
       " ('LNC', 'EYE'),\n",
       " ('LNC', 'EYE.RETINAL_RX'),\n",
       " ('LNC', 'EYE.TONOMETRY'),\n",
       " ('LNC', 'EYE.US'),\n",
       " ('LNC', 'Ear'),\n",
       " ('LNC', 'Ear fluid'),\n",
       " ('LNC', 'Ear.external'),\n",
       " ('LNC', 'Eating disorder symptoms'),\n",
       " ('LNC', 'Eculizumab'),\n",
       " ('LNC', 'Edema'),\n",
       " ('LNC', 'Edoxaban'),\n",
       " ('LNC', 'Education program'),\n",
       " ('LNC', 'Egg'),\n",
       " ('LNC', 'Ehrlichia sp'),\n",
       " ...]"
      ]
     },
     "execution_count": 16,
     "metadata": {},
     "output_type": "execute_result"
    }
   ],
   "source": [
    "[x for x in dup_desc_dict.keys() if x[0]=='LNC']"
   ]
  },
  {
   "cell_type": "code",
   "execution_count": 17,
   "metadata": {},
   "outputs": [],
   "source": [
    "#\n",
    "# Aggregate and rename nodes with duplicate description\n",
    "#\n",
    "node_source_list = []\n",
    "node_id_list = []\n",
    "node_name_list = []\n",
    "node_desc_list = []\n",
    "\n",
    "for k in dup_code_dict.keys():\n",
    "    source = k[0]\n",
    "    code = k[1]\n",
    "    new_id = 'group_' + str(code)\n",
    "    desc = dup_code_dict[k][0]\n",
    "    \n",
    "    node_source_list.append(source)\n",
    "    node_id_list.append(new_id)\n",
    "    node_name_list.append(code)\n",
    "    node_desc_list.append(desc)\n",
    "\n",
    "rename_node_code_df = pd.DataFrame({'SOURCE': node_source_list, 'CODE': node_id_list,\n",
    "                               'OG_CODE': node_name_list, 'DESCRIPTION': node_desc_list})"
   ]
  },
  {
   "cell_type": "code",
   "execution_count": 18,
   "metadata": {},
   "outputs": [
    {
     "data": {
      "text/plain": [
       "(2507, 4)"
      ]
     },
     "execution_count": 18,
     "metadata": {},
     "output_type": "execute_result"
    }
   ],
   "source": [
    "rename_node_code_df.shape"
   ]
  },
  {
   "cell_type": "code",
   "execution_count": 20,
   "metadata": {},
   "outputs": [
    {
     "data": {
      "text/plain": [
       "(2507, 4)"
      ]
     },
     "execution_count": 20,
     "metadata": {},
     "output_type": "execute_result"
    }
   ],
   "source": [
    "rename_node_code_df.shape"
   ]
  },
  {
   "cell_type": "code",
   "execution_count": 16,
   "metadata": {},
   "outputs": [
    {
     "data": {
      "text/plain": [
       "(10101, 3)"
      ]
     },
     "execution_count": 16,
     "metadata": {},
     "output_type": "execute_result"
    }
   ],
   "source": [
    "#\n",
    "# Aggregate and label nodes with duplicate codes\n",
    "#\n",
    "node_source_list = []\n",
    "node_id_list = []\n",
    "node_name_list = []\n",
    "node_desc_list = []\n",
    "\n",
    "for k in dup_desc_dict.keys():\n",
    "    source = k[0]\n",
    "    desc = k[1]\n",
    "    dup_list = dup_desc_dict[k]\n",
    "    new_id = 'group_' + str(dup_list[0])\n",
    "    \n",
    "    node_source_list.append(source)\n",
    "    node_id_list.append(new_id)\n",
    "    node_name_list.append(desc)\n",
    "\n",
    "rename_node_desc_df = pd.DataFrame({'SOURCE': node_source_list, 'CODE': node_id_list,\n",
    "                               'DESCRIPTION': node_name_list})\n",
    "\n",
    "rename_node_desc_df.shape"
   ]
  },
  {
   "cell_type": "code",
   "execution_count": 17,
   "metadata": {},
   "outputs": [
    {
     "name": "stdout",
     "output_type": "stream",
     "text": [
      "ICD9CM\n",
      "SNOMEDCT_US\n",
      "CPT\n"
     ]
    },
    {
     "data": {
      "text/plain": [
       "7"
      ]
     },
     "execution_count": 17,
     "metadata": {},
     "output_type": "execute_result"
    }
   ],
   "source": [
    "# remove renamed nodes from original node df (by code)\n",
    "remaining_node_list = []\n",
    "for source in rename_node_code_df['SOURCE'].unique():\n",
    "    print(source)\n",
    "    remove_code = rename_node_code_df.loc[rename_node_code_df['SOURCE'] == source]['OG_CODE']\n",
    "    keep_df = node_df.loc[(node_df['SOURCE'] == source) & (~node_df['CODE'].isin(remove_code))]\n",
    "    exclude_list = rename_node_desc_df.loc[rename_node_desc_df['SOURCE'] == source]['DESCRIPTION'].values\n",
    "    keep_df = keep_df.loc[~keep_df['DESCRIPTION'].isin(exclude_list)]\n",
    "    \n",
    "    remaining_node_list.append(keep_df)\n",
    "\n",
    "# add back sources that didn't have any duplicates (i.e. rxnorm)\n",
    "for source in set(node_df['SOURCE'].unique()) - set(rename_node_code_df['SOURCE'].unique()):\n",
    "    keep_df = node_df.loc[(node_df['SOURCE'] == source)]\n",
    "    exclude_list = rename_node_desc_df.loc[rename_node_desc_df['SOURCE'] == source]['DESCRIPTION'].values\n",
    "    keep_df = keep_df.loc[~keep_df['DESCRIPTION'].isin(exclude_list)]\n",
    "    \n",
    "    remaining_node_list.append(keep_df)\n",
    "    \n",
    "# add back nodes that were grouped\n",
    "remaining_node_list.append(rename_node_code_df.drop(['OG_CODE'], axis=1))\n",
    "\n",
    "len(remaining_node_list)"
   ]
  },
  {
   "cell_type": "code",
   "execution_count": 18,
   "metadata": {},
   "outputs": [
    {
     "name": "stdout",
     "output_type": "stream",
     "text": [
      "ICD9CM\n",
      "LNC\n",
      "SNOMEDCT_US\n",
      "CPT\n"
     ]
    },
    {
     "data": {
      "text/plain": [
       "(66756, 3)"
      ]
     },
     "execution_count": 18,
     "metadata": {},
     "output_type": "execute_result"
    }
   ],
   "source": [
    "# remove renamed nodes from original node df\n",
    "for source in rename_node_desc_df['SOURCE'].unique():\n",
    "    print(source)\n",
    "    remove_desc = rename_node_desc_df.loc[rename_node_desc_df['SOURCE'] == source]['DESCRIPTION']\n",
    "    keep_df = node_df.loc[(node_df['SOURCE'] == source) \n",
    "                          & (~node_df['DESCRIPTION'].isin(remove_desc))]\n",
    "    exclude_list = rename_node_code_df.loc[rename_node_code_df['SOURCE'] == source]['OG_CODE'].values\n",
    "    keep_df = keep_df.loc[~keep_df['CODE'].isin(exclude_list)]\n",
    "    \n",
    "    remaining_node_list.append(keep_df)\n",
    "\n",
    "# add back sources that didn't have any duplicates (i.e. rxnorm)\n",
    "for source in set(node_df['SOURCE'].unique()) - set(rename_node_desc_df['SOURCE'].unique()):\n",
    "    keep_df = node_df.loc[(node_df['SOURCE'] == source)]\n",
    "    exclude_list = rename_node_code_df.loc[rename_node_code_df['SOURCE'] == source]['OG_CODE'].values\n",
    "    keep_df = keep_df.loc[~keep_df['CODE'].isin(exclude_list)]\n",
    "    remaining_node_list.append(keep_df)\n",
    "    \n",
    "# add back nodes that were grouped\n",
    "remaining_node_list.append(rename_node_desc_df)\n",
    "\n",
    "new_node_df = pd.concat(remaining_node_list).drop_duplicates()\n",
    "\n",
    "new_node_df.shape"
   ]
  },
  {
   "cell_type": "code",
   "execution_count": 19,
   "metadata": {},
   "outputs": [
    {
     "data": {
      "text/html": [
       "<div>\n",
       "<style scoped>\n",
       "    .dataframe tbody tr th:only-of-type {\n",
       "        vertical-align: middle;\n",
       "    }\n",
       "\n",
       "    .dataframe tbody tr th {\n",
       "        vertical-align: top;\n",
       "    }\n",
       "\n",
       "    .dataframe thead th {\n",
       "        text-align: right;\n",
       "    }\n",
       "</style>\n",
       "<table border=\"1\" class=\"dataframe\">\n",
       "  <thead>\n",
       "    <tr style=\"text-align: right;\">\n",
       "      <th></th>\n",
       "      <th>CODE</th>\n",
       "      <th>SOURCE</th>\n",
       "      <th>DESCRIPTION</th>\n",
       "    </tr>\n",
       "  </thead>\n",
       "  <tbody>\n",
       "    <tr>\n",
       "      <th>10096</th>\n",
       "      <td>group_73120</td>\n",
       "      <td>CPT</td>\n",
       "      <td>X-ray of hand</td>\n",
       "    </tr>\n",
       "    <tr>\n",
       "      <th>10097</th>\n",
       "      <td>group_70210</td>\n",
       "      <td>CPT</td>\n",
       "      <td>X-ray of paranasal sinuses</td>\n",
       "    </tr>\n",
       "    <tr>\n",
       "      <th>10098</th>\n",
       "      <td>group_72170</td>\n",
       "      <td>CPT</td>\n",
       "      <td>X-ray of pelvis</td>\n",
       "    </tr>\n",
       "    <tr>\n",
       "      <th>10099</th>\n",
       "      <td>group_70190</td>\n",
       "      <td>CPT</td>\n",
       "      <td>X-ray of skull</td>\n",
       "    </tr>\n",
       "    <tr>\n",
       "      <th>10100</th>\n",
       "      <td>group_70300</td>\n",
       "      <td>CPT</td>\n",
       "      <td>X-ray of teeth</td>\n",
       "    </tr>\n",
       "  </tbody>\n",
       "</table>\n",
       "</div>"
      ],
      "text/plain": [
       "              CODE SOURCE                 DESCRIPTION\n",
       "10096  group_73120    CPT               X-ray of hand\n",
       "10097  group_70210    CPT  X-ray of paranasal sinuses\n",
       "10098  group_72170    CPT             X-ray of pelvis\n",
       "10099  group_70190    CPT              X-ray of skull\n",
       "10100  group_70300    CPT              X-ray of teeth"
      ]
     },
     "execution_count": 19,
     "metadata": {},
     "output_type": "execute_result"
    }
   ],
   "source": [
    "new_node_df.tail()"
   ]
  },
  {
   "cell_type": "code",
   "execution_count": 20,
   "metadata": {},
   "outputs": [
    {
     "data": {
      "text/plain": [
       "(66756, 3)"
      ]
     },
     "execution_count": 20,
     "metadata": {},
     "output_type": "execute_result"
    }
   ],
   "source": [
    "#\n",
    "# merge with edges in 3 parts\n",
    "#\n",
    "new_node_mapping = new_node_df.copy()[['CODE', 'SOURCE', 'DESCRIPTION']]\n",
    "new_node_mapping.columns = ['CODE_new', 'SOURCE', 'DESCRIPTION']\n",
    "\n",
    "merge_df_list = []\n",
    "\n",
    "for source in node_df['SOURCE'].unique():\n",
    "    hold_back_codes = rename_node_code_df.loc[rename_node_code_df['SOURCE']==source]['OG_CODE'].values\n",
    "\n",
    "    hold_back_desc = rename_node_desc_df.loc[rename_node_desc_df['SOURCE']==source]['DESCRIPTION'].values\n",
    "\n",
    "    source_df = df.loc[df['SOURCE']==source]\n",
    "\n",
    "    source_keep_df = source_df.loc[(~source_df['CODE'].isin(hold_back_codes)) &\n",
    "                  (~source_df['DESCRIPTION'].isin(hold_back_desc))]\n",
    "\n",
    "    new_source_keep_df = source_keep_df.merge(new_node_mapping, on=['DESCRIPTION', 'SOURCE'], how='inner').drop('CODE', axis=1)\n",
    "\n",
    "    new_source_keep_df = source_keep_df.rename(columns={'CODE_new': 'CODE'})[['PHECODE', 'CODE', 'SOURCE', 'DESCRIPTION', 'TFIDF']]\n",
    "\n",
    "    merge_df_list.append(new_source_keep_df)\n",
    "\n",
    "    hold_back_code_df = source_df.loc[source_df['CODE'].isin(hold_back_codes)]\n",
    "\n",
    "    hold_back_code_df = hold_back_code_df.drop(['DESCRIPTION'], axis=1).groupby(\n",
    "        ['PHECODE', 'CODE', 'SOURCE']).mean().reset_index()\n",
    "\n",
    "    new_hold_back_code_df = hold_back_code_df.merge(rename_node_code_df, \n",
    "                            left_on=['SOURCE', 'CODE'],\n",
    "                            right_on=['SOURCE', 'OG_CODE'], how='inner')\n",
    "\n",
    "    new_hold_back_code_df['CODE'] = new_hold_back_code_df['CODE_y'].copy()\n",
    "    new_hold_back_code_df = new_hold_back_code_df.drop(['CODE_x', 'CODE_y', 'OG_CODE'], axis=1)\n",
    "\n",
    "    merge_df_list.append(new_hold_back_code_df)\n",
    "\n",
    "    hold_back_desc_df = source_df.loc[source_df['DESCRIPTION'].isin(hold_back_desc)]\n",
    "\n",
    "    hold_back_desc_df = hold_back_desc_df.drop(['CODE'], axis=1).groupby(\n",
    "        ['PHECODE', 'DESCRIPTION', 'SOURCE']).mean().reset_index()\n",
    "\n",
    "    new_hold_back_desc_df = hold_back_desc_df.merge(rename_node_desc_df, \n",
    "                            left_on=['SOURCE', 'DESCRIPTION'],\n",
    "                            right_on=['SOURCE', 'DESCRIPTION'], how='inner')\n",
    "\n",
    "    merge_df_list.append(new_hold_back_desc_df)\n",
    "\n",
    "    \n",
    "new_df = pd.concat(merge_df_list).drop_duplicates()\n",
    "\n",
    "phecode_df = node_df.query(\"SOURCE=='PHECODE'\").reset_index().drop('index', axis=1)\n",
    "new_node_df = new_node_df.reset_index().drop('index', axis=1)\n",
    "\n",
    "new_node_df.shape"
   ]
  },
  {
   "cell_type": "code",
   "execution_count": 21,
   "metadata": {},
   "outputs": [
    {
     "data": {
      "text/html": [
       "<div>\n",
       "<style scoped>\n",
       "    .dataframe tbody tr th:only-of-type {\n",
       "        vertical-align: middle;\n",
       "    }\n",
       "\n",
       "    .dataframe tbody tr th {\n",
       "        vertical-align: top;\n",
       "    }\n",
       "\n",
       "    .dataframe thead th {\n",
       "        text-align: right;\n",
       "    }\n",
       "</style>\n",
       "<table border=\"1\" class=\"dataframe\">\n",
       "  <thead>\n",
       "    <tr style=\"text-align: right;\">\n",
       "      <th></th>\n",
       "      <th>PHECODE</th>\n",
       "      <th>CODE</th>\n",
       "      <th>SOURCE</th>\n",
       "      <th>DESCRIPTION</th>\n",
       "      <th>TFIDF</th>\n",
       "    </tr>\n",
       "  </thead>\n",
       "  <tbody>\n",
       "    <tr>\n",
       "      <th>504</th>\n",
       "      <td>1001.0</td>\n",
       "      <td>group_93451</td>\n",
       "      <td>CPT</td>\n",
       "      <td>Right heart catheterization</td>\n",
       "      <td>6.889460</td>\n",
       "    </tr>\n",
       "    <tr>\n",
       "      <th>505</th>\n",
       "      <td>1010.0</td>\n",
       "      <td>group_86480</td>\n",
       "      <td>CPT</td>\n",
       "      <td>Tuberculosis test</td>\n",
       "      <td>1.513130</td>\n",
       "    </tr>\n",
       "    <tr>\n",
       "      <th>506</th>\n",
       "      <td>1010.6</td>\n",
       "      <td>group_59409</td>\n",
       "      <td>CPT</td>\n",
       "      <td>Vaginal delivery</td>\n",
       "      <td>2.541951</td>\n",
       "    </tr>\n",
       "    <tr>\n",
       "      <th>507</th>\n",
       "      <td>1011.0</td>\n",
       "      <td>group_20200</td>\n",
       "      <td>CPT</td>\n",
       "      <td>Biopsy of muscle</td>\n",
       "      <td>1.370796</td>\n",
       "    </tr>\n",
       "    <tr>\n",
       "      <th>508</th>\n",
       "      <td>1011.0</td>\n",
       "      <td>group_90675</td>\n",
       "      <td>CPT</td>\n",
       "      <td>Rabies vaccine</td>\n",
       "      <td>1.376661</td>\n",
       "    </tr>\n",
       "  </tbody>\n",
       "</table>\n",
       "</div>"
      ],
      "text/plain": [
       "     PHECODE         CODE SOURCE                  DESCRIPTION     TFIDF\n",
       "504   1001.0  group_93451    CPT  Right heart catheterization  6.889460\n",
       "505   1010.0  group_86480    CPT            Tuberculosis test  1.513130\n",
       "506   1010.6  group_59409    CPT             Vaginal delivery  2.541951\n",
       "507   1011.0  group_20200    CPT             Biopsy of muscle  1.370796\n",
       "508   1011.0  group_90675    CPT               Rabies vaccine  1.376661"
      ]
     },
     "execution_count": 21,
     "metadata": {},
     "output_type": "execute_result"
    }
   ],
   "source": [
    "new_df.tail()"
   ]
  },
  {
   "cell_type": "markdown",
   "metadata": {},
   "source": [
    "#### Add edges between parent and children phecodes"
   ]
  },
  {
   "cell_type": "code",
   "execution_count": 22,
   "metadata": {},
   "outputs": [
    {
     "data": {
      "text/plain": [
       "(66756, 5)"
      ]
     },
     "execution_count": 22,
     "metadata": {},
     "output_type": "execute_result"
    }
   ],
   "source": [
    "# add parent relation nodes\n",
    "relation_df = pd.read_csv(\"Phecode_Relationship.csv\")\n",
    "\n",
    "parent_df = relation_df[['PARENT_CODE', 'PARENT_STR']].drop_duplicates()\n",
    "\n",
    "parent_df = parent_df.merge(defn_df[['phenotype', 'phecode']], left_on='PARENT_CODE',\n",
    "                right_on='phecode', how='left')\n",
    "\n",
    "# node_index,node_id,node_type,node_name,node_source\n",
    "new_node_df.columns = ['node_id', 'node_source', 'node_name']\n",
    "new_node_df['node_type'] = new_node_df['node_source'].copy()\n",
    "new_node_df['node_index'] = new_node_df.index.values\n",
    "\n",
    "new_node_df.shape"
   ]
  },
  {
   "cell_type": "code",
   "execution_count": 23,
   "metadata": {},
   "outputs": [
    {
     "data": {
      "text/plain": [
       "(635712, 11)"
      ]
     },
     "execution_count": 23,
     "metadata": {},
     "output_type": "execute_result"
    }
   ],
   "source": [
    "# translate to edges\n",
    "new_df.columns = ['x_id', 'y_id', 'y_source', 'y_name', 'CS']\n",
    "\n",
    "# define edges\n",
    "edge_df = new_df.merge(new_node_df.loc[new_node_df['node_source']=='PHECODE'],\n",
    "         left_on='x_id', right_on='node_id', how='left')\n",
    "\n",
    "edge_df = edge_df.rename(columns={'node_source': 'x_source',\n",
    "                        'node_name': 'x_name', 'node_type': 'x_type',\n",
    "                       'node_index': 'x_index'}).drop(['node_id'], axis=1)\n",
    "\n",
    "edge_df['y_type'] = edge_df['y_source'].copy()\n",
    "\n",
    "edge_df = edge_df.merge(new_node_df,left_on=['y_id', 'y_source'], \n",
    "              right_on=['node_id', 'node_source'], how='left')\n",
    "\n",
    "edge_df = edge_df.rename(columns={'node_index': 'y_index'})\n",
    "\n",
    "edge_df = edge_df[['x_index', 'x_id', 'x_name', 'x_type', 'x_source', \n",
    "        'y_index', 'y_id', 'y_name', 'y_type', 'y_source', 'CS']]\n",
    "edge_df.shape"
   ]
  },
  {
   "cell_type": "code",
   "execution_count": 24,
   "metadata": {},
   "outputs": [
    {
     "name": "stdout",
     "output_type": "stream",
     "text": [
      "(636737, 12)\n"
     ]
    }
   ],
   "source": [
    "# add parent edges\n",
    "parent_child_df = relation_df[['CHILD_CODE', 'PARENT_CODE']]\n",
    "parent_child_df.columns = ['x_id', 'y_id']\n",
    "parent_child_df['x_source'] = 'PHECODE'\n",
    "parent_child_df['y_source'] = 'PHECODE'\n",
    "parent_child_df['x_type'] = 'PHECODE'\n",
    "parent_child_df['y_type'] = 'PHECODE'\n",
    "\n",
    "# get x info\n",
    "parent_child_df = parent_child_df.merge(new_node_df.loc[new_node_df['node_source'] == 'PHECODE'],\n",
    "                     left_on='x_id', right_on='node_id', how='left')\n",
    "\n",
    "parent_child_df = parent_child_df.rename(columns={'node_name':'x_name',\n",
    "                               'node_index': 'x_index'})\n",
    "\n",
    "\n",
    "parent_child_df = parent_child_df.drop(['node_type', 'node_source', 'node_id'], axis=1)\n",
    "\n",
    "# y info\n",
    "parent_child_df = parent_child_df.merge(new_node_df.loc[new_node_df['node_source'] == 'PHECODE'],\n",
    "                     left_on='y_id', right_on='node_id', how='left')\n",
    "\n",
    "parent_child_df = parent_child_df.rename(columns={\n",
    "                                                  'node_name':'y_name',\n",
    "                               'node_index': 'y_index'}).drop(['node_type', 'node_source', 'node_id'], axis=1)\n",
    "\n",
    "parent_child_df['CS'] = edge_df['CS'].max()\n",
    "\n",
    "parent_child_df = parent_child_df[['x_index', 'x_id', 'x_name', 'x_type', 'x_source', \n",
    "        'y_index', 'y_id', 'y_name', 'y_type', 'y_source', 'CS']]\n",
    "\n",
    "all_edge_df = pd.concat([edge_df, parent_child_df])\n",
    "\n",
    "all_edge_df['relation'] = all_edge_df['x_type'] + '_' + all_edge_df['y_type']\n",
    "print(all_edge_df.shape)\n",
    "\n",
    "node_check_df = pd.concat([all_edge_df[['x_id', 'x_source']], all_edge_df[['y_id', 'y_source']].rename(columns={'y_id': 'x_id', 'y_source': 'x_source'})]).drop_duplicates()\n",
    "node_check_df = node_check_df.rename(columns={'x_id': 'node_id', 'x_source': 'node_source'})\n"
   ]
  },
  {
   "cell_type": "code",
   "execution_count": 25,
   "metadata": {},
   "outputs": [
    {
     "data": {
      "text/plain": [
       "(66650, 2)"
      ]
     },
     "execution_count": 25,
     "metadata": {},
     "output_type": "execute_result"
    }
   ],
   "source": [
    "phecode_df = node_df.query(\"SOURCE=='PHECODE'\").reset_index().drop('index', axis=1)\n",
    "\n",
    "new_node_df = new_node_df.merge(node_check_df, on=['node_id', 'node_source'], how='inner')\n",
    "\n",
    "new_node_df = new_node_df.reset_index().drop('index', axis=1)\n",
    "\n",
    "# add parent relation nodes\n",
    "relation_df = pd.read_csv(\"Phecode_Relationship.csv\")\n",
    "\n",
    "parent_df = relation_df[['PARENT_CODE', 'PARENT_STR']].drop_duplicates()\n",
    "\n",
    "parent_df = parent_df.merge(defn_df[['phenotype', 'phecode']], left_on='PARENT_CODE',\n",
    "                right_on='phecode', how='left')\n",
    "\n",
    "\n",
    "new_node_df['node_index'] = new_node_df.index.values\n",
    "\n",
    "# translate to edges\n",
    "new_df.columns = ['x_id', 'y_id', 'y_source', 'y_name', 'CS']\n",
    "\n",
    "\n",
    "# define edges\n",
    "edge_df = new_df.merge(new_node_df.loc[new_node_df['node_source']=='PHECODE'],\n",
    "         left_on='x_id', right_on='node_id', how='left')\n",
    "\n",
    "edge_df = edge_df.rename(columns={'node_source': 'x_source',\n",
    "                        'node_name': 'x_name', 'node_type': 'x_type',\n",
    "                       'node_index': 'x_index'}).drop(['node_id'], axis=1)\n",
    "\n",
    "edge_df['y_type'] = edge_df['y_source'].copy()\n",
    "\n",
    "edge_df = edge_df.merge(new_node_df,left_on=['y_id', 'y_source'], \n",
    "              right_on=['node_id', 'node_source'], how='left')\n",
    "\n",
    "edge_df = edge_df.rename(columns={'node_index': 'y_index'})\n",
    "\n",
    "edge_df = edge_df[['x_index', 'x_id', 'x_name', 'x_type', 'x_source', \n",
    "        'y_index', 'y_id', 'y_name', 'y_type', 'y_source', 'CS']]\n",
    "\n",
    "# add parent edges\n",
    "parent_child_df = relation_df[['CHILD_CODE', 'PARENT_CODE']]\n",
    "parent_child_df.columns = ['x_id', 'y_id']\n",
    "parent_child_df['x_source'] = 'PHECODE'\n",
    "parent_child_df['y_source'] = 'PHECODE'\n",
    "parent_child_df['x_type'] = 'PHECODE'\n",
    "parent_child_df['y_type'] = 'PHECODE'\n",
    "\n",
    "# get x info\n",
    "parent_child_df = parent_child_df.merge(new_node_df.loc[new_node_df['node_source'] == 'PHECODE'],\n",
    "                     left_on='x_id', right_on='node_id', how='left')\n",
    "\n",
    "parent_child_df = parent_child_df.rename(columns={'node_name':'x_name',\n",
    "                               'node_index': 'x_index'})\n",
    "\n",
    "\n",
    "parent_child_df = parent_child_df.drop(['node_type', 'node_source', 'node_id'], axis=1)\n",
    "\n",
    "# y info\n",
    "parent_child_df = parent_child_df.merge(new_node_df.loc[new_node_df['node_source'] == 'PHECODE'],\n",
    "                     left_on='y_id', right_on='node_id', how='left')\n",
    "\n",
    "parent_child_df = parent_child_df.rename(columns={\n",
    "                                                  'node_name':'y_name',\n",
    "                               'node_index': 'y_index'}).drop(['node_type', 'node_source', 'node_id'], axis=1)\n",
    "\n",
    "parent_child_df['CS'] = edge_df['CS'].max()\n",
    "\n",
    "parent_child_df = parent_child_df[['x_index', 'x_id', 'x_name', 'x_type', 'x_source', \n",
    "        'y_index', 'y_id', 'y_name', 'y_type', 'y_source', 'CS']]\n",
    "\n",
    "all_edge_df = pd.concat([edge_df, parent_child_df])\n",
    "\n",
    "all_edge_df['relation'] = all_edge_df['x_type'] + '_' + all_edge_df['y_type']\n",
    "\n",
    "node_check_df = pd.concat([all_edge_df[['x_id', 'x_source']], all_edge_df[['y_id', 'y_source']].rename(columns={'y_id': 'x_id', 'y_source': 'x_source'})]).drop_duplicates()\n",
    "\n",
    "node_check_df = node_check_df.rename(columns={'x_id': 'node_id', 'x_source': 'node_source'})\n",
    "\n",
    "node_check_df.shape"
   ]
  },
  {
   "cell_type": "markdown",
   "metadata": {},
   "source": [
    "#### Put all nodes and edges together into a dictionary"
   ]
  },
  {
   "cell_type": "code",
   "execution_count": 26,
   "metadata": {},
   "outputs": [],
   "source": [
    "kg_df = all_edge_df.drop_duplicates()\n",
    "\n",
    "# re-index according to node type\n",
    "nodes_df = new_node_df.merge(node_check_df, on=['node_id', 'node_source'], how='inner')\n",
    "\n",
    "nodes_df['node_type_index'] = nodes_df.groupby('node_type').cumcount()\n",
    "kg_df['x_type_index'] = nodes_df.loc[kg_df['x_index'], 'node_type_index'].values\n",
    "kg_df['y_type_index'] = nodes_df.loc[kg_df['y_index'], 'node_type_index'].values\n",
    "\n",
    "grouped_edges = kg_df.groupby(['x_type', 'relation', 'y_type'], sort = False)\n",
    "\n",
    "# add all edges into a dict\n",
    "data_dict = {}\n",
    "\n",
    "# construct graph from edges\n",
    "for (x_type, relation, y_type), edges_subset in grouped_edges:\n",
    "\n",
    "    # convert edge indices to torch tensor\n",
    "    edge_indices = (torch.tensor(edges_subset['x_type_index'].values), torch.tensor(edges_subset['y_type_index'].values))\n",
    "\n",
    "    # add edge indices to data object\n",
    "    data_dict[(x_type, relation, y_type)] = edge_indices"
   ]
  },
  {
   "cell_type": "code",
   "execution_count": 27,
   "metadata": {},
   "outputs": [],
   "source": [
    "#\n",
    "# Add reverse edges for phecode parent-child relationships\n",
    "#\n",
    "data_dict_undir = data_dict.copy()\n",
    "\n",
    "etypes = list(data_dict_undir.keys())\n",
    "\n",
    "for e_tup in etypes:\n",
    "    if e_tup[1] == 'PHECODE_PHECODE':\n",
    "        new_e_type = (e_tup[2], 'PHECODE_PHECODE_rev', e_tup[0])\n",
    "    else:\n",
    "        new_e_type = (e_tup[2], e_tup[1], e_tup[0])\n",
    "    u_inds = data_dict_undir[e_tup][1]\n",
    "    v_inds = data_dict_undir[e_tup][0]\n",
    "\n",
    "    data_dict_undir[new_e_type] = (u_inds, v_inds)"
   ]
  },
  {
   "cell_type": "markdown",
   "metadata": {},
   "source": [
    "#### Make DGL graph obj"
   ]
  },
  {
   "cell_type": "code",
   "execution_count": 28,
   "metadata": {},
   "outputs": [],
   "source": [
    "hg = dgl.heterograph(data_dict)\n",
    "\n",
    "rev_hg = dgl.heterograph(data_dict_undir)"
   ]
  },
  {
   "cell_type": "code",
   "execution_count": 29,
   "metadata": {},
   "outputs": [],
   "source": [
    "# save\n",
    "fname = \"phemap_het_graph_undir.pt\"\n",
    "dgl.save_graphs(fname, [rev_hg])"
   ]
  },
  {
   "cell_type": "code",
   "execution_count": 30,
   "metadata": {},
   "outputs": [
    {
     "name": "stderr",
     "output_type": "stream",
     "text": [
      "/tmp/ipykernel_861953/1392426223.py:8: UserWarning: To copy construct from a tensor, it is recommended to use sourceTensor.clone().detach() or sourceTensor.clone().detach().requires_grad_(True), rather than torch.tensor(sourceTensor).\n",
      "  hg[(x_type, relation, y_type)].edata['kg_index'] = torch.tensor(kg_indices)\n",
      "/tmp/ipykernel_861953/1392426223.py:9: UserWarning: To copy construct from a tensor, it is recommended to use sourceTensor.clone().detach() or sourceTensor.clone().detach().requires_grad_(True), rather than torch.tensor(sourceTensor).\n",
      "  hg[(x_type, relation, y_type)].edata['graph_index'] = torch.tensor(graph_indices)\n"
     ]
    }
   ],
   "source": [
    "# iterate over the groups and add global node indices to the graph\n",
    "for (x_type, relation, y_type), edges_subset in grouped_edges:\n",
    "    kg_indices = torch.vstack((torch.tensor(edges_subset['x_index'].values), \n",
    "                               torch.tensor(edges_subset['y_index'].values))).T\n",
    "    graph_indices = torch.vstack((hg.edges(etype = (x_type, relation, y_type), form='uv')[0],\n",
    "                        hg.edges(etype = (x_type, relation, y_type), form = 'uv')[1])).T\n",
    "    \n",
    "    hg[(x_type, relation, y_type)].edata['kg_index'] = torch.tensor(kg_indices)\n",
    "    hg[(x_type, relation, y_type)].edata['graph_index'] = torch.tensor(graph_indices)\n",
    "\n",
    "df_list = []\n",
    "for (x_type, relation, y_type) in hg.canonical_etypes:\n",
    "    x_graph_index = hg[(x_type, relation, y_type)].edata['graph_index'][:,0]\n",
    "    y_graph_index = hg[(x_type, relation, y_type)].edata['graph_index'][:,1]\n",
    "    x_kg_index = hg[(x_type, relation, y_type)].edata['kg_index'][:,0]\n",
    "    y_kg_index = hg[(x_type, relation, y_type)].edata['kg_index'][:,1]\n",
    "    \n",
    "    df = pd.DataFrame({'graph_index': x_graph_index, 'kg_index': x_kg_index})\n",
    "    df['ntype'] = x_type\n",
    "    df_list.append(df)\n",
    "    \n",
    "    df = pd.DataFrame({'graph_index': y_graph_index, 'kg_index': y_kg_index})\n",
    "    df['ntype'] = y_type\n",
    "    df_list.append(df)\n",
    "\n",
    "all_df = pd.concat(df_list).drop_duplicates()\n",
    "\n",
    "node_map_df = all_df.merge(nodes_df[['node_index', 'node_name', 'node_id']].drop_duplicates(), left_on='kg_index', right_on='node_index', how='left').drop(['node_index'], axis=1)"
   ]
  },
  {
   "cell_type": "code",
   "execution_count": 31,
   "metadata": {},
   "outputs": [
    {
     "data": {
      "text/plain": [
       "(66650, 5)"
      ]
     },
     "execution_count": 31,
     "metadata": {},
     "output_type": "execute_result"
    }
   ],
   "source": [
    "node_map_df.shape"
   ]
  },
  {
   "cell_type": "code",
   "execution_count": 32,
   "metadata": {},
   "outputs": [
    {
     "data": {
      "text/html": [
       "<div>\n",
       "<style scoped>\n",
       "    .dataframe tbody tr th:only-of-type {\n",
       "        vertical-align: middle;\n",
       "    }\n",
       "\n",
       "    .dataframe tbody tr th {\n",
       "        vertical-align: top;\n",
       "    }\n",
       "\n",
       "    .dataframe thead th {\n",
       "        text-align: right;\n",
       "    }\n",
       "</style>\n",
       "<table border=\"1\" class=\"dataframe\">\n",
       "  <thead>\n",
       "    <tr style=\"text-align: right;\">\n",
       "      <th></th>\n",
       "      <th>graph_index</th>\n",
       "      <th>kg_index</th>\n",
       "      <th>ntype</th>\n",
       "      <th>node_name</th>\n",
       "      <th>node_id</th>\n",
       "    </tr>\n",
       "  </thead>\n",
       "  <tbody>\n",
       "    <tr>\n",
       "      <th>66645</th>\n",
       "      <td>37746</td>\n",
       "      <td>65747</td>\n",
       "      <td>SNOMEDCT_US</td>\n",
       "      <td>Suspected child abuse</td>\n",
       "      <td>group_139863006</td>\n",
       "    </tr>\n",
       "    <tr>\n",
       "      <th>66646</th>\n",
       "      <td>33733</td>\n",
       "      <td>61734</td>\n",
       "      <td>SNOMEDCT_US</td>\n",
       "      <td>Congenital preauricular fistula</td>\n",
       "      <td>group_123283003</td>\n",
       "    </tr>\n",
       "    <tr>\n",
       "      <th>66647</th>\n",
       "      <td>33808</td>\n",
       "      <td>61809</td>\n",
       "      <td>SNOMEDCT_US</td>\n",
       "      <td>Costello syndrome</td>\n",
       "      <td>group_205803001</td>\n",
       "    </tr>\n",
       "    <tr>\n",
       "      <th>66648</th>\n",
       "      <td>34829</td>\n",
       "      <td>62830</td>\n",
       "      <td>SNOMEDCT_US</td>\n",
       "      <td>Fistula of intestine NOS</td>\n",
       "      <td>group_197245009</td>\n",
       "    </tr>\n",
       "    <tr>\n",
       "      <th>66649</th>\n",
       "      <td>34673</td>\n",
       "      <td>62674</td>\n",
       "      <td>SNOMEDCT_US</td>\n",
       "      <td>FH: Fragility fracture</td>\n",
       "      <td>group_389284009</td>\n",
       "    </tr>\n",
       "  </tbody>\n",
       "</table>\n",
       "</div>"
      ],
      "text/plain": [
       "       graph_index  kg_index        ntype                        node_name  \\\n",
       "66645        37746     65747  SNOMEDCT_US            Suspected child abuse   \n",
       "66646        33733     61734  SNOMEDCT_US  Congenital preauricular fistula   \n",
       "66647        33808     61809  SNOMEDCT_US                Costello syndrome   \n",
       "66648        34829     62830  SNOMEDCT_US         Fistula of intestine NOS   \n",
       "66649        34673     62674  SNOMEDCT_US           FH: Fragility fracture   \n",
       "\n",
       "               node_id  \n",
       "66645  group_139863006  \n",
       "66646  group_123283003  \n",
       "66647  group_205803001  \n",
       "66648  group_197245009  \n",
       "66649  group_389284009  "
      ]
     },
     "execution_count": 32,
     "metadata": {},
     "output_type": "execute_result"
    }
   ],
   "source": [
    "node_map_df.tail()"
   ]
  },
  {
   "cell_type": "code",
   "execution_count": 33,
   "metadata": {},
   "outputs": [],
   "source": [
    "node_map_df.to_csv(\"node_map_df.csv\", index=False)"
   ]
  },
  {
   "cell_type": "code",
   "execution_count": 34,
   "metadata": {},
   "outputs": [
    {
     "name": "stdout",
     "output_type": "stream",
     "text": [
      "CPT\n",
      "ICD9CM\n",
      "LNC\n",
      "PHECODE\n",
      "RXNORM\n",
      "SNOMEDCT_US\n"
     ]
    }
   ],
   "source": [
    "# add node features (kg index)\n",
    "for node_type in hg.ntypes:\n",
    "    print(node_type)\n",
    "    hg.nodes[node_type].data['kg_index'] = torch.tensor(node_map_df.loc[node_map_df['ntype'] == node_type].sort_values(\n",
    "        by='graph_index')['kg_index'].values)"
   ]
  },
  {
   "cell_type": "code",
   "execution_count": 35,
   "metadata": {},
   "outputs": [
    {
     "name": "stdout",
     "output_type": "stream",
     "text": [
      "CPT\n",
      "ICD9CM\n",
      "LNC\n",
      "PHECODE\n",
      "RXNORM\n",
      "SNOMEDCT_US\n"
     ]
    }
   ],
   "source": [
    "# add node features (edge index)\n",
    "cat_i = 0\n",
    "for node_type in hg.ntypes:\n",
    "    print(node_type)\n",
    "    hg.nodes[node_type].data['type_index'] = torch.full((1, hg.num_nodes(node_type)),\n",
    "                                                        cat_i).squeeze(dim=0)"
   ]
  },
  {
   "cell_type": "code",
   "execution_count": 36,
   "metadata": {},
   "outputs": [],
   "source": [
    "# save!\n",
    "fname = \"phemap_het_graph.pt\"\n",
    "dgl.save_graphs(fname, [hg])"
   ]
  },
  {
   "cell_type": "code",
   "execution_count": 37,
   "metadata": {},
   "outputs": [
    {
     "name": "stdout",
     "output_type": "stream",
     "text": [
      "66650\n",
      "636737\n"
     ]
    }
   ],
   "source": [
    "print(hg.num_nodes())\n",
    "print(hg.num_edges())"
   ]
  },
  {
   "cell_type": "markdown",
   "metadata": {},
   "source": [
    "## Add extra edges for terminology connections"
   ]
  },
  {
   "cell_type": "code",
   "execution_count": 38,
   "metadata": {},
   "outputs": [
    {
     "data": {
      "text/plain": [
       "(66650, 5)"
      ]
     },
     "execution_count": 38,
     "metadata": {},
     "output_type": "execute_result"
    }
   ],
   "source": [
    "# read in pre-computed basic kg and mapping for convenience\n",
    "hg = dgl.load_graphs(\"phemap_het_graph_undir.pt\")[0][0]\n",
    "node_map_df = pd.read_csv(\"node_map_df.csv\")\n",
    "node_map_df.shape"
   ]
  },
  {
   "cell_type": "markdown",
   "metadata": {},
   "source": [
    "#### Add PHECODE-ICD edges "
   ]
  },
  {
   "cell_type": "code",
   "execution_count": 12,
   "metadata": {},
   "outputs": [
    {
     "data": {
      "text/html": [
       "<div>\n",
       "<style scoped>\n",
       "    .dataframe tbody tr th:only-of-type {\n",
       "        vertical-align: middle;\n",
       "    }\n",
       "\n",
       "    .dataframe tbody tr th {\n",
       "        vertical-align: top;\n",
       "    }\n",
       "\n",
       "    .dataframe thead th {\n",
       "        text-align: right;\n",
       "    }\n",
       "</style>\n",
       "<table border=\"1\" class=\"dataframe\">\n",
       "  <thead>\n",
       "    <tr style=\"text-align: right;\">\n",
       "      <th></th>\n",
       "      <th>icd9</th>\n",
       "      <th>phecode</th>\n",
       "    </tr>\n",
       "  </thead>\n",
       "  <tbody>\n",
       "    <tr>\n",
       "      <th>20778</th>\n",
       "      <td>V85.51</td>\n",
       "      <td>260.0</td>\n",
       "    </tr>\n",
       "    <tr>\n",
       "      <th>20779</th>\n",
       "      <td>V85.53</td>\n",
       "      <td>278.0</td>\n",
       "    </tr>\n",
       "    <tr>\n",
       "      <th>20780</th>\n",
       "      <td>V85.54</td>\n",
       "      <td>278.1</td>\n",
       "    </tr>\n",
       "    <tr>\n",
       "      <th>20781</th>\n",
       "      <td>V85.54</td>\n",
       "      <td>278.0</td>\n",
       "    </tr>\n",
       "    <tr>\n",
       "      <th>20782</th>\n",
       "      <td>V87.41</td>\n",
       "      <td>197.0</td>\n",
       "    </tr>\n",
       "  </tbody>\n",
       "</table>\n",
       "</div>"
      ],
      "text/plain": [
       "         icd9  phecode\n",
       "20778  V85.51    260.0\n",
       "20779  V85.53    278.0\n",
       "20780  V85.54    278.1\n",
       "20781  V85.54    278.0\n",
       "20782  V87.41    197.0"
      ]
     },
     "execution_count": 12,
     "metadata": {},
     "output_type": "execute_result"
    }
   ],
   "source": [
    "phecode_map_df = pd.read_csv(\"phecode_icd9_map_unrolled.csv\")\n",
    "\n",
    "phecode_map_df.tail()"
   ]
  },
  {
   "cell_type": "code",
   "execution_count": 13,
   "metadata": {},
   "outputs": [
    {
     "data": {
      "text/plain": [
       "13707"
      ]
     },
     "execution_count": 13,
     "metadata": {},
     "output_type": "execute_result"
    }
   ],
   "source": [
    "# total number of ICDs represented in phecode\n",
    "len(phecode_map_df['icd9'].unique())"
   ]
  },
  {
   "cell_type": "code",
   "execution_count": 14,
   "metadata": {},
   "outputs": [
    {
     "data": {
      "text/plain": [
       "1817"
      ]
     },
     "execution_count": 14,
     "metadata": {},
     "output_type": "execute_result"
    }
   ],
   "source": [
    "# total number of phecodes\n",
    "len(phecode_map_df['phecode'].unique())"
   ]
  },
  {
   "cell_type": "code",
   "execution_count": 15,
   "metadata": {},
   "outputs": [
    {
     "data": {
      "text/plain": [
       "15524"
      ]
     },
     "execution_count": 15,
     "metadata": {},
     "output_type": "execute_result"
    }
   ],
   "source": [
    "# total concepts just in phecode df \n",
    "len(phecode_map_df['icd9'].unique()) + len(phecode_map_df['phecode'].unique())"
   ]
  },
  {
   "cell_type": "code",
   "execution_count": 17,
   "metadata": {},
   "outputs": [
    {
     "data": {
      "text/plain": [
       "(20783, 2)"
      ]
     },
     "execution_count": 17,
     "metadata": {},
     "output_type": "execute_result"
    }
   ],
   "source": [
    "# total edges just in phecode df\n",
    "phecode_map_df.shape"
   ]
  },
  {
   "cell_type": "code",
   "execution_count": 40,
   "metadata": {},
   "outputs": [
    {
     "name": "stdout",
     "output_type": "stream",
     "text": [
      "(12608, 5)\n",
      "(66650, 5)\n",
      "(20783, 2)\n",
      "(19705, 3)\n"
     ]
    }
   ],
   "source": [
    "# read in mapping files\n",
    "group_df = node_map_df.loc[node_map_df['node_id'].str.startswith('group_')]\n",
    "group_df = group_df.assign(new_node_id=group_df['node_id'].str.split('_', expand=True)[1])\n",
    "group_df = group_df.assign(node_id=group_df['new_node_id'])\n",
    "group_df = group_df.drop(['new_node_id'], axis=1)\n",
    "print(group_df.shape)\n",
    "\n",
    "og_df = node_map_df.loc[~node_map_df['node_id'].str.startswith('group_')]\n",
    "node_map_df = pd.concat([og_df, group_df])\n",
    "print(node_map_df.shape)\n",
    "\n",
    "phecode_map_df['phecode'] = phecode_map_df['phecode'].astype(str)\n",
    "print(phecode_map_df.shape)\n",
    "\n",
    "phecode_map_df = phecode_map_df.merge(node_map_df.loc[node_map_df['ntype'] == 'ICD9CM'][['node_id', 'graph_index']], left_on='icd9', right_on='node_id').drop(['node_id'], axis=1)\n",
    "print(phecode_map_df.shape)\n"
   ]
  },
  {
   "cell_type": "code",
   "execution_count": 41,
   "metadata": {},
   "outputs": [
    {
     "name": "stdout",
     "output_type": "stream",
     "text": [
      "(19463, 5)\n",
      "12749\n"
     ]
    }
   ],
   "source": [
    "phecode_map_df = phecode_map_df.merge(node_map_df.loc[node_map_df['ntype'] == 'PHECODE'][['node_id', 'graph_index']], left_on='phecode', right_on='node_id')\n",
    "phecode_map_df.columns = ['icd9', 'phecode', 'icd9_index', 'node_id', 'phecode_index'] \n",
    "print(phecode_map_df.shape)\n",
    "\n",
    "icd_phecode_index_map = {}\n",
    "for i, row in phecode_map_df.sort_values(by='phecode_index').iterrows():\n",
    "    k = row['icd9_index']\n",
    "    v = row['phecode_index']\n",
    "    icd_phecode_index_map[k] = v\n",
    "print(len(icd_phecode_index_map.keys()))"
   ]
  },
  {
   "cell_type": "code",
   "execution_count": 42,
   "metadata": {},
   "outputs": [
    {
     "name": "stdout",
     "output_type": "stream",
     "text": [
      "(34496, 2)\n"
     ]
    }
   ],
   "source": [
    "# get all PHECODE - ICD9CM edges\n",
    "all_edges = hg.edges(etype=('PHECODE', 'PHECODE_ICD9CM', 'ICD9CM'))\n",
    "phecode_src_nodes = all_edges[0]\n",
    "icd_dst_nodes = all_edges[1]\n",
    "# add phecode friends from phecode-icd associations\n",
    "mapped_icd_dst = [icd_phecode_index_map[x.item()] if x.item() in icd_phecode_index_map.keys() else -1 for x in icd_dst_nodes]\n",
    "\n",
    "keep_edge_list = []\n",
    "for u,v in zip(phecode_src_nodes.tolist(), mapped_icd_dst):\n",
    "    if v != -1:\n",
    "        keep_edge_list.append([u, v])\n",
    "\n",
    "# why so many duplicate phecode-phecodes?\n",
    "keep_edge_df = pd.DataFrame(keep_edge_list)\n",
    "keep_edge_df = keep_edge_df.loc[keep_edge_df[0] != keep_edge_df[1]].drop_duplicates()\n",
    "print(keep_edge_df.shape)\n",
    "\n",
    "new_phecode_src_ids = torch.tensor(keep_edge_df[0].values)\n",
    "new_phecode_dst_ids = torch.tensor(keep_edge_df[1].values)"
   ]
  },
  {
   "cell_type": "code",
   "execution_count": 43,
   "metadata": {},
   "outputs": [],
   "source": [
    "# forward phecode edge\n",
    "hg.add_edges(new_phecode_src_ids,\n",
    "             new_phecode_dst_ids,\n",
    "             etype=('PHECODE', 'PHECODE_PHECODE', 'PHECODE'))\n",
    "\n",
    "# rev phecode edge\n",
    "hg.add_edges(new_phecode_dst_ids,\n",
    "             new_phecode_src_ids,\n",
    "             etype=('PHECODE', 'PHECODE_PHECODE_rev', 'PHECODE'))\n",
    "\n",
    "# ICD9CM -> PHECODE\n",
    "hg.add_edges(torch.tensor(phecode_map_df['icd9_index'].values),\n",
    "             torch.tensor(phecode_map_df['phecode_index'].values),\n",
    "             etype=('ICD9CM', 'PHECODE_ICD9CM', 'PHECODE'))\n",
    "\n",
    "# PHECODE -> ICD9CM\n",
    "hg.add_edges(torch.tensor(phecode_map_df['phecode_index'].values),\n",
    "             torch.tensor(phecode_map_df['icd9_index'].values),\n",
    "             etype=('PHECODE', 'PHECODE_ICD9CM', 'ICD9CM'))"
   ]
  },
  {
   "cell_type": "code",
   "execution_count": 44,
   "metadata": {},
   "outputs": [
    {
     "name": "stdout",
     "output_type": "stream",
     "text": [
      "66650\n",
      "1381392\n"
     ]
    }
   ],
   "source": [
    "print(hg.num_nodes())\n",
    "print(hg.num_edges())"
   ]
  },
  {
   "cell_type": "markdown",
   "metadata": {},
   "source": [
    "#### Add ATC-RXNORM edges"
   ]
  },
  {
   "cell_type": "code",
   "execution_count": 45,
   "metadata": {},
   "outputs": [
    {
     "name": "stderr",
     "output_type": "stream",
     "text": [
      "100%|██████████| 474/474 [00:00<00:00, 3495.04it/s]\n"
     ]
    }
   ],
   "source": [
    "# read in pre-computed atc-rxnorm mapping\n",
    "atc_rxnorm_map_df = pd.read_csv(\"atc_rxnorm_map.csv\")\n",
    "\n",
    "# create atc4 from atc5\n",
    "atc_rxnorm_map_df = atc_rxnorm_map_df.assign(atc4=atc_rxnorm_map_df['atc_code'].str.slice(0,5))\n",
    "atc_bridge_dict = {}\n",
    "\n",
    "atc4_list = np.sort(atc_rxnorm_map_df['atc4'].unique())\n",
    "for atc_code in tqdm(atc4_list):\n",
    "    rx_list = atc_rxnorm_map_df.loc[atc_rxnorm_map_df['atc4'] == atc_code]['rxnorm_code'].unique().tolist()\n",
    "    atc_bridge_dict[atc_code] = rx_list\n"
   ]
  },
  {
   "cell_type": "code",
   "execution_count": 47,
   "metadata": {},
   "outputs": [],
   "source": [
    "# convert to homogenous graph for global indexing\n",
    "homo_hg = dgl.to_homogeneous(hg)\n",
    "\n",
    "ntype_dict = {}\n",
    "for ntype_ind, ntype in zip(range(0, len(hg.ntypes)), hg.ntypes):\n",
    "    ntype_dict[ntype_ind] = ntype\n",
    "\n",
    "global_node_list = []\n",
    "for new_id, old_id, type_ind in zip(homo_hg.nodes().tolist(), homo_hg.ndata['_ID'].tolist(), homo_hg.ndata['_TYPE'].tolist()):\n",
    "    ntype_name = ntype_dict[type_ind]\n",
    "    global_node_list.append([old_id, ntype_name, new_id])\n",
    "\n",
    "global_node_df = pd.DataFrame(global_node_list)\n",
    "global_node_df.columns = ['graph_index', 'ntype', 'global_graph_index']\n",
    "\n",
    "node_map_df = node_map_df.merge(global_node_df, on=['ntype', 'graph_index'])\n",
    "#temp_df = node_map_df.merge(global_node_df, on=['ntype', 'graph_index'])"
   ]
  },
  {
   "cell_type": "code",
   "execution_count": 48,
   "metadata": {},
   "outputs": [
    {
     "data": {
      "text/plain": [
       "(1381392, 9)"
      ]
     },
     "execution_count": 48,
     "metadata": {},
     "output_type": "execute_result"
    }
   ],
   "source": [
    "edata_df = pd.DataFrame({'src': homo_hg.edges(form='uv')[0].tolist(), 'dst': homo_hg.edges(form='uv')[1].tolist(), 'etype': homo_hg.edata['_TYPE'].tolist()})\n",
    "edata_df = edata_df.merge(node_map_df[['node_name', 'ntype', 'global_graph_index']], left_on='src', right_on='global_graph_index')\n",
    "edata_df = edata_df.merge(node_map_df[['node_name', 'ntype', 'global_graph_index']], left_on='dst', right_on='global_graph_index')\n",
    "edata_df.shape"
   ]
  },
  {
   "cell_type": "code",
   "execution_count": 49,
   "metadata": {},
   "outputs": [],
   "source": [
    "sorted_atc_codes = np.sort(list(atc_bridge_dict.keys()))\n",
    "\n",
    "new_ind = homo_hg.num_nodes()\n",
    "rxnorm_id_dict = {}\n",
    "for k in sorted_atc_codes:\n",
    "    rxnorm_id_dict[k] = [new_ind]\n",
    "    new_ind += 1"
   ]
  },
  {
   "cell_type": "code",
   "execution_count": 50,
   "metadata": {},
   "outputs": [],
   "source": [
    "# make new nodes for atc\n",
    "n_atc = len(atc_bridge_dict.keys())\n",
    "\n",
    "# new node type: ATC - 6\n",
    "homo_hg = dgl.add_nodes(homo_hg, n_atc, data={'_TYPE': torch.tensor([6]*n_atc)})"
   ]
  },
  {
   "cell_type": "code",
   "execution_count": 51,
   "metadata": {},
   "outputs": [
    {
     "data": {
      "text/plain": [
       "1381392"
      ]
     },
     "execution_count": 51,
     "metadata": {},
     "output_type": "execute_result"
    }
   ],
   "source": [
    "homo_hg.num_edges()"
   ]
  },
  {
   "cell_type": "code",
   "execution_count": 52,
   "metadata": {},
   "outputs": [],
   "source": [
    "rxnorm_id_to_index = {}\n",
    "for i, row in node_map_df.loc[node_map_df['ntype']=='RXNORM'].iterrows():\n",
    "    rx_code = str(row['node_id'])\n",
    "    global_ind = row['global_graph_index']\n",
    "    rxnorm_id_to_index[rx_code] = global_ind"
   ]
  },
  {
   "cell_type": "code",
   "execution_count": 53,
   "metadata": {},
   "outputs": [],
   "source": [
    "src_list = []\n",
    "dst_list = []\n",
    "\n",
    "for k in rxnorm_id_dict.keys():\n",
    "    # get graph index of new atc code\n",
    "    atc_graph_index = rxnorm_id_dict[k][0]\n",
    "    \n",
    "    # connect atc code with rxnorm children\n",
    "    for rxnorm_id in atc_bridge_dict[k]:\n",
    "        rxnorm_id = str(rxnorm_id)\n",
    "        rxnorm_index = rxnorm_id_to_index[rxnorm_id]\n",
    "        \n",
    "        src_list.append(atc_graph_index)\n",
    "        dst_list.append(rxnorm_index)"
   ]
  },
  {
   "cell_type": "code",
   "execution_count": 54,
   "metadata": {},
   "outputs": [
    {
     "data": {
      "text/plain": [
       "[66650, 66651, 66651, 66651, 66651, 66651, 66651, 66651, 66651, 66651]"
      ]
     },
     "execution_count": 54,
     "metadata": {},
     "output_type": "execute_result"
    }
   ],
   "source": [
    "src_list[0:10]"
   ]
  },
  {
   "cell_type": "code",
   "execution_count": 55,
   "metadata": {},
   "outputs": [],
   "source": [
    "# update node map\n",
    "atc_list = []\n",
    "for k in rxnorm_id_dict.keys():\n",
    "    atc_graph_index = rxnorm_id_dict[k][0]\n",
    "    atc_node_name = 'ATC4_' + str(k)\n",
    "    atc_list.append(['ATC4', atc_node_name, k, atc_graph_index])\n",
    "    \n",
    "atc_df = pd.DataFrame(atc_list)\n",
    "atc_df.columns = ['ntype', 'node_name', 'node_id', 'global_graph_index']\n",
    "new_node_df = pd.concat([node_map_df[['ntype', 'node_name', 'node_id', 'global_graph_index']], atc_df])"
   ]
  },
  {
   "cell_type": "code",
   "execution_count": 56,
   "metadata": {},
   "outputs": [
    {
     "data": {
      "text/html": [
       "<div>\n",
       "<style scoped>\n",
       "    .dataframe tbody tr th:only-of-type {\n",
       "        vertical-align: middle;\n",
       "    }\n",
       "\n",
       "    .dataframe tbody tr th {\n",
       "        vertical-align: top;\n",
       "    }\n",
       "\n",
       "    .dataframe thead th {\n",
       "        text-align: right;\n",
       "    }\n",
       "</style>\n",
       "<table border=\"1\" class=\"dataframe\">\n",
       "  <thead>\n",
       "    <tr style=\"text-align: right;\">\n",
       "      <th></th>\n",
       "      <th>ntype</th>\n",
       "      <th>node_name</th>\n",
       "      <th>node_id</th>\n",
       "      <th>global_graph_index</th>\n",
       "    </tr>\n",
       "  </thead>\n",
       "  <tbody>\n",
       "    <tr>\n",
       "      <th>469</th>\n",
       "      <td>ATC4</td>\n",
       "      <td>ATC4_V04CM</td>\n",
       "      <td>V04CM</td>\n",
       "      <td>67119</td>\n",
       "    </tr>\n",
       "    <tr>\n",
       "      <th>470</th>\n",
       "      <td>ATC4</td>\n",
       "      <td>ATC4_V04CX</td>\n",
       "      <td>V04CX</td>\n",
       "      <td>67120</td>\n",
       "    </tr>\n",
       "    <tr>\n",
       "      <th>471</th>\n",
       "      <td>ATC4</td>\n",
       "      <td>ATC4_V06DC</td>\n",
       "      <td>V06DC</td>\n",
       "      <td>67121</td>\n",
       "    </tr>\n",
       "    <tr>\n",
       "      <th>472</th>\n",
       "      <td>ATC4</td>\n",
       "      <td>ATC4_V08AB</td>\n",
       "      <td>V08AB</td>\n",
       "      <td>67122</td>\n",
       "    </tr>\n",
       "    <tr>\n",
       "      <th>473</th>\n",
       "      <td>ATC4</td>\n",
       "      <td>ATC4_V08CA</td>\n",
       "      <td>V08CA</td>\n",
       "      <td>67123</td>\n",
       "    </tr>\n",
       "  </tbody>\n",
       "</table>\n",
       "</div>"
      ],
      "text/plain": [
       "    ntype   node_name node_id  global_graph_index\n",
       "469  ATC4  ATC4_V04CM   V04CM               67119\n",
       "470  ATC4  ATC4_V04CX   V04CX               67120\n",
       "471  ATC4  ATC4_V06DC   V06DC               67121\n",
       "472  ATC4  ATC4_V08AB   V08AB               67122\n",
       "473  ATC4  ATC4_V08CA   V08CA               67123"
      ]
     },
     "execution_count": 56,
     "metadata": {},
     "output_type": "execute_result"
    }
   ],
   "source": [
    "new_node_df.tail()"
   ]
  },
  {
   "cell_type": "code",
   "execution_count": 57,
   "metadata": {},
   "outputs": [],
   "source": [
    "new_node_df.to_csv(\"new_node_map_df.csv\", index=False)\n",
    "node_map_df = new_node_df.copy()"
   ]
  },
  {
   "cell_type": "code",
   "execution_count": 58,
   "metadata": {},
   "outputs": [
    {
     "data": {
      "text/plain": [
       "(1200, 10)"
      ]
     },
     "execution_count": 58,
     "metadata": {},
     "output_type": "execute_result"
    }
   ],
   "source": [
    "edge_df = pd.DataFrame({'src': src_list, 'dst': dst_list})\n",
    "edge_df = edge_df.merge(node_map_df, left_on='src', right_on='global_graph_index')\n",
    "edge_df = edge_df.merge(node_map_df, left_on='dst', right_on='global_graph_index')\n",
    "edge_df.shape"
   ]
  },
  {
   "cell_type": "code",
   "execution_count": 59,
   "metadata": {},
   "outputs": [],
   "source": [
    "# forward edge: atc -> rx\n",
    "homo_hg = dgl.add_edges(homo_hg, u=torch.tensor(src_list), v=torch.tensor(dst_list), data={'_TYPE': torch.tensor([12]*len(src_list))})\n",
    "\n",
    "# backward edge\n",
    "# rx -> atc\n",
    "homo_hg = dgl.add_edges(homo_hg, u=torch.tensor(dst_list), v=torch.tensor(src_list), data={'_TYPE': torch.tensor([13]*len(src_list))})"
   ]
  },
  {
   "cell_type": "code",
   "execution_count": 60,
   "metadata": {},
   "outputs": [
    {
     "name": "stdout",
     "output_type": "stream",
     "text": [
      "67124\n",
      "1383792\n"
     ]
    }
   ],
   "source": [
    "print(homo_hg.num_nodes())\n",
    "print(homo_hg.num_edges())"
   ]
  },
  {
   "cell_type": "markdown",
   "metadata": {},
   "source": [
    "#### Phecode to ATC edges"
   ]
  },
  {
   "cell_type": "code",
   "execution_count": 61,
   "metadata": {},
   "outputs": [],
   "source": [
    "atc_id_to_index = {}\n",
    "for i, row in node_map_df.loc[node_map_df['ntype']=='ATC4'].iterrows():\n",
    "    atc_id = row['node_id']\n",
    "    atc_index = row['global_graph_index']\n",
    "    atc_id_to_index[atc_id] = atc_index"
   ]
  },
  {
   "cell_type": "code",
   "execution_count": 62,
   "metadata": {},
   "outputs": [
    {
     "data": {
      "text/plain": [
       "[6218, 6582, 6585, 6628, 9945, 28395, 36709, 52356]"
      ]
     },
     "execution_count": 62,
     "metadata": {},
     "output_type": "execute_result"
    }
   ],
   "source": [
    "atc_bridge_dict['A06AD']"
   ]
  },
  {
   "cell_type": "code",
   "execution_count": 63,
   "metadata": {},
   "outputs": [],
   "source": [
    "# mapping rxnorm-graph-index -> atc-graph-index\n",
    "rxnorm_atc_index_mapping = {}\n",
    "\n",
    "for atc_code in atc_bridge_dict.keys():\n",
    "    rx_id_list = atc_bridge_dict[atc_code]\n",
    "    atc_graph_index = atc_id_to_index[atc_code]\n",
    "    \n",
    "    for rx_id in rx_id_list:\n",
    "        rx_graph_index = rxnorm_id_to_index[str(rx_id)]\n",
    "        rxnorm_atc_index_mapping[rx_graph_index] = atc_graph_index"
   ]
  },
  {
   "cell_type": "code",
   "execution_count": 65,
   "metadata": {},
   "outputs": [],
   "source": [
    "src_list = homo_hg.edges(form='uv')[0].tolist()\n",
    "dst_list = homo_hg.edges(form='uv')[1].tolist()\n",
    "etype_inds = homo_hg.edata['_TYPE'].tolist()"
   ]
  },
  {
   "cell_type": "code",
   "execution_count": 66,
   "metadata": {},
   "outputs": [
    {
     "data": {
      "text/plain": [
       "(1383792, 11)"
      ]
     },
     "execution_count": 66,
     "metadata": {},
     "output_type": "execute_result"
    }
   ],
   "source": [
    "\n",
    "edge_df = pd.DataFrame({'src': src_list, 'dst': dst_list, 'e_ind': etype_inds})\n",
    "edge_df = edge_df.merge(node_map_df, left_on='src', right_on='global_graph_index')\n",
    "edge_df = edge_df.merge(node_map_df, left_on='dst', right_on='global_graph_index')\n",
    "edge_df.shape"
   ]
  },
  {
   "cell_type": "code",
   "execution_count": 67,
   "metadata": {},
   "outputs": [],
   "source": [
    "# u (src): PHECODE\n",
    "# v (dst): RXNORM (RXNORM) -> ATC\n",
    "src_list = []\n",
    "dst_list = []\n",
    "\n",
    "for u_nodes, v_nodes, etype in zip(homo_hg.edges(form='uv')[0], homo_hg.edges(form='uv')[1], homo_hg.edata['_TYPE']):\n",
    "    if etype == 8: # phecode - rxnorm edge\n",
    "        #print(u_nodes, v_nodes)\n",
    "        rx_index = v_nodes.item()\n",
    "        if rx_index in rxnorm_atc_index_mapping.keys():\n",
    "            atc_index = rxnorm_atc_index_mapping[rx_index]\n",
    "            src_list.append(u_nodes.item())\n",
    "            dst_list.append(atc_index)"
   ]
  },
  {
   "cell_type": "code",
   "execution_count": 68,
   "metadata": {},
   "outputs": [
    {
     "data": {
      "text/plain": [
       "[67034, 67103, 67033, 67103, 66676, 67079, 67033, 66870, 67079, 67034]"
      ]
     },
     "execution_count": 68,
     "metadata": {},
     "output_type": "execute_result"
    }
   ],
   "source": [
    "dst_list[0:10]"
   ]
  },
  {
   "cell_type": "code",
   "execution_count": 69,
   "metadata": {},
   "outputs": [
    {
     "data": {
      "text/plain": [
       "(2732, 10)"
      ]
     },
     "execution_count": 69,
     "metadata": {},
     "output_type": "execute_result"
    }
   ],
   "source": [
    "edge_df = pd.DataFrame({'src': src_list, 'dst': dst_list}).drop_duplicates()\n",
    "edge_df = edge_df.merge(node_map_df, left_on='src', right_on='global_graph_index')\n",
    "edge_df = edge_df.merge(node_map_df, left_on='dst', right_on='global_graph_index')\n",
    "edge_df.shape"
   ]
  },
  {
   "cell_type": "code",
   "execution_count": 70,
   "metadata": {},
   "outputs": [
    {
     "data": {
      "text/plain": [
       "2732"
      ]
     },
     "execution_count": 70,
     "metadata": {},
     "output_type": "execute_result"
    }
   ],
   "source": [
    "# remove duplicates \n",
    "src_list = edge_df['src'].values\n",
    "dst_list = edge_df['dst'].values\n",
    "\n",
    "len(src_list)"
   ]
  },
  {
   "cell_type": "code",
   "execution_count": 71,
   "metadata": {},
   "outputs": [],
   "source": [
    "# forward edge: phecode -> atc (14)\n",
    "homo_hg = dgl.add_edges(homo_hg, u=torch.tensor(src_list), v=torch.tensor(dst_list), data={'_TYPE': torch.tensor([14]*len(src_list))})\n",
    "\n",
    "# backward edge\n",
    "# atc -> phecode (15)\n",
    "homo_hg = dgl.add_edges(homo_hg, u=torch.tensor(dst_list), v=torch.tensor(src_list), data={'_TYPE': torch.tensor([15]*len(src_list))})"
   ]
  },
  {
   "cell_type": "code",
   "execution_count": 72,
   "metadata": {},
   "outputs": [
    {
     "name": "stdout",
     "output_type": "stream",
     "text": [
      "67124\n",
      "1389256\n"
     ]
    }
   ],
   "source": [
    "print(homo_hg.num_nodes()) # 67124\n",
    "print(homo_hg.num_edges()) # 1389256"
   ]
  },
  {
   "cell_type": "code",
   "execution_count": 73,
   "metadata": {},
   "outputs": [],
   "source": [
    "# save!\n",
    "fname = \"intermediate_phemap_homo_graph.pt\"\n",
    "dgl.save_graphs(fname, [homo_hg])"
   ]
  },
  {
   "cell_type": "markdown",
   "metadata": {},
   "source": [
    "## Filter high degree nodes"
   ]
  },
  {
   "cell_type": "code",
   "execution_count": 21,
   "metadata": {},
   "outputs": [],
   "source": [
    "# read in pre-computed basic kg and mapping for convenience\n",
    "fname = \"intermediate_phemap_homo_graph.pt\"\n",
    "homo_hg = dgl.load_graphs(fname)[0][0]\n",
    "node_map_df = pd.read_csv(\"new_node_map_df.csv\")"
   ]
  },
  {
   "cell_type": "code",
   "execution_count": 22,
   "metadata": {},
   "outputs": [],
   "source": [
    "phecode_node_list = node_map_df.loc[node_map_df['ntype'] == 'PHECODE']['global_graph_index'].values.tolist()\n",
    "phecode_node_degree = homo_hg.in_degrees(torch.tensor(phecode_node_list))\n",
    "phecode_map_df = node_map_df.loc[node_map_df['ntype'] == 'PHECODE']\n",
    "phecode_map_df = phecode_map_df.assign(degree=phecode_node_degree)"
   ]
  },
  {
   "cell_type": "code",
   "execution_count": 23,
   "metadata": {},
   "outputs": [
    {
     "data": {
      "text/html": [
       "<div>\n",
       "<style scoped>\n",
       "    .dataframe tbody tr th:only-of-type {\n",
       "        vertical-align: middle;\n",
       "    }\n",
       "\n",
       "    .dataframe tbody tr th {\n",
       "        vertical-align: top;\n",
       "    }\n",
       "\n",
       "    .dataframe thead th {\n",
       "        text-align: right;\n",
       "    }\n",
       "</style>\n",
       "<table border=\"1\" class=\"dataframe\">\n",
       "  <thead>\n",
       "    <tr style=\"text-align: right;\">\n",
       "      <th></th>\n",
       "      <th>ntype</th>\n",
       "      <th>node_name</th>\n",
       "      <th>node_id</th>\n",
       "      <th>global_graph_index</th>\n",
       "      <th>degree</th>\n",
       "    </tr>\n",
       "  </thead>\n",
       "  <tbody>\n",
       "    <tr>\n",
       "      <th>0</th>\n",
       "      <td>PHECODE</td>\n",
       "      <td>Intestinal infection</td>\n",
       "      <td>8.0</td>\n",
       "      <td>24217</td>\n",
       "      <td>457</td>\n",
       "    </tr>\n",
       "    <tr>\n",
       "      <th>1</th>\n",
       "      <td>PHECODE</td>\n",
       "      <td>Bacterial enteritis</td>\n",
       "      <td>8.5</td>\n",
       "      <td>24218</td>\n",
       "      <td>555</td>\n",
       "    </tr>\n",
       "    <tr>\n",
       "      <th>2</th>\n",
       "      <td>PHECODE</td>\n",
       "      <td>Intestinal infection due to C. difficile</td>\n",
       "      <td>8.52</td>\n",
       "      <td>24220</td>\n",
       "      <td>281</td>\n",
       "    </tr>\n",
       "    <tr>\n",
       "      <th>3</th>\n",
       "      <td>PHECODE</td>\n",
       "      <td>Viral Enteritis</td>\n",
       "      <td>8.6</td>\n",
       "      <td>24221</td>\n",
       "      <td>348</td>\n",
       "    </tr>\n",
       "    <tr>\n",
       "      <th>4</th>\n",
       "      <td>PHECODE</td>\n",
       "      <td>Tuberculosis</td>\n",
       "      <td>10.0</td>\n",
       "      <td>24223</td>\n",
       "      <td>1473</td>\n",
       "    </tr>\n",
       "  </tbody>\n",
       "</table>\n",
       "</div>"
      ],
      "text/plain": [
       "     ntype                                 node_name node_id  \\\n",
       "0  PHECODE                      Intestinal infection     8.0   \n",
       "1  PHECODE                       Bacterial enteritis     8.5   \n",
       "2  PHECODE  Intestinal infection due to C. difficile    8.52   \n",
       "3  PHECODE                           Viral Enteritis     8.6   \n",
       "4  PHECODE                              Tuberculosis    10.0   \n",
       "\n",
       "   global_graph_index  degree  \n",
       "0               24217     457  \n",
       "1               24218     555  \n",
       "2               24220     281  \n",
       "3               24221     348  \n",
       "4               24223    1473  "
      ]
     },
     "execution_count": 23,
     "metadata": {},
     "output_type": "execute_result"
    }
   ],
   "source": [
    "phecode_map_df.head()"
   ]
  },
  {
   "cell_type": "code",
   "execution_count": 25,
   "metadata": {},
   "outputs": [
    {
     "data": {
      "text/html": [
       "<div>\n",
       "<style scoped>\n",
       "    .dataframe tbody tr th:only-of-type {\n",
       "        vertical-align: middle;\n",
       "    }\n",
       "\n",
       "    .dataframe tbody tr th {\n",
       "        vertical-align: top;\n",
       "    }\n",
       "\n",
       "    .dataframe thead th {\n",
       "        text-align: right;\n",
       "    }\n",
       "</style>\n",
       "<table border=\"1\" class=\"dataframe\">\n",
       "  <thead>\n",
       "    <tr style=\"text-align: right;\">\n",
       "      <th></th>\n",
       "      <th>ntype</th>\n",
       "      <th>node_name</th>\n",
       "      <th>node_id</th>\n",
       "      <th>global_graph_index</th>\n",
       "      <th>degree</th>\n",
       "    </tr>\n",
       "  </thead>\n",
       "  <tbody>\n",
       "    <tr>\n",
       "      <th>21796</th>\n",
       "      <td>PHECODE</td>\n",
       "      <td>Bullous dermatoses</td>\n",
       "      <td>695.2</td>\n",
       "      <td>25589</td>\n",
       "      <td>52</td>\n",
       "    </tr>\n",
       "    <tr>\n",
       "      <th>21797</th>\n",
       "      <td>PHECODE</td>\n",
       "      <td>Benign neoplasm of brain and other parts of ne...</td>\n",
       "      <td>225.0</td>\n",
       "      <td>24419</td>\n",
       "      <td>6</td>\n",
       "    </tr>\n",
       "    <tr>\n",
       "      <th>21798</th>\n",
       "      <td>PHECODE</td>\n",
       "      <td>Abnormal Papanicolaou smear of cervix and cerv...</td>\n",
       "      <td>792.0</td>\n",
       "      <td>25856</td>\n",
       "      <td>1</td>\n",
       "    </tr>\n",
       "    <tr>\n",
       "      <th>21799</th>\n",
       "      <td>PHECODE</td>\n",
       "      <td>Occlusion of cerebral arteries</td>\n",
       "      <td>433.2</td>\n",
       "      <td>25037</td>\n",
       "      <td>98</td>\n",
       "    </tr>\n",
       "    <tr>\n",
       "      <th>21800</th>\n",
       "      <td>PHECODE</td>\n",
       "      <td>Non-autoimmune hemolytic anemias</td>\n",
       "      <td>283.2</td>\n",
       "      <td>24612</td>\n",
       "      <td>2</td>\n",
       "    </tr>\n",
       "  </tbody>\n",
       "</table>\n",
       "</div>"
      ],
      "text/plain": [
       "         ntype                                          node_name node_id  \\\n",
       "21796  PHECODE                                 Bullous dermatoses   695.2   \n",
       "21797  PHECODE  Benign neoplasm of brain and other parts of ne...   225.0   \n",
       "21798  PHECODE  Abnormal Papanicolaou smear of cervix and cerv...   792.0   \n",
       "21799  PHECODE                     Occlusion of cerebral arteries   433.2   \n",
       "21800  PHECODE                   Non-autoimmune hemolytic anemias   283.2   \n",
       "\n",
       "       global_graph_index  degree  \n",
       "21796               25589      52  \n",
       "21797               24419       6  \n",
       "21798               25856       1  \n",
       "21799               25037      98  \n",
       "21800               24612       2  "
      ]
     },
     "execution_count": 25,
     "metadata": {},
     "output_type": "execute_result"
    }
   ],
   "source": [
    "phecode_map_df.tail()"
   ]
  },
  {
   "cell_type": "code",
   "execution_count": 26,
   "metadata": {},
   "outputs": [],
   "source": [
    "degree_thresh = 1000\n",
    "high_degree_df = phecode_map_df.loc[(phecode_map_df['degree'] >= 1000)]\n",
    "icd_inds = node_map_df.loc[node_map_df['ntype'] == 'ICD9CM']['global_graph_index'].values.tolist()\n",
    "keep_icd_inds = node_map_df.loc[(node_map_df['ntype'] == 'ICD9CM') & (node_map_df['node_id'].str.len() <= 5)]['global_graph_index'].values.tolist()"
   ]
  },
  {
   "cell_type": "code",
   "execution_count": 30,
   "metadata": {},
   "outputs": [
    {
     "data": {
      "text/html": [
       "<div>\n",
       "<style scoped>\n",
       "    .dataframe tbody tr th:only-of-type {\n",
       "        vertical-align: middle;\n",
       "    }\n",
       "\n",
       "    .dataframe tbody tr th {\n",
       "        vertical-align: top;\n",
       "    }\n",
       "\n",
       "    .dataframe thead th {\n",
       "        text-align: right;\n",
       "    }\n",
       "</style>\n",
       "<table border=\"1\" class=\"dataframe\">\n",
       "  <thead>\n",
       "    <tr style=\"text-align: right;\">\n",
       "      <th></th>\n",
       "      <th>ntype</th>\n",
       "      <th>node_name</th>\n",
       "      <th>node_id</th>\n",
       "      <th>global_graph_index</th>\n",
       "      <th>degree</th>\n",
       "    </tr>\n",
       "  </thead>\n",
       "  <tbody>\n",
       "    <tr>\n",
       "      <th>4</th>\n",
       "      <td>PHECODE</td>\n",
       "      <td>Tuberculosis</td>\n",
       "      <td>10.0</td>\n",
       "      <td>24223</td>\n",
       "      <td>1473</td>\n",
       "    </tr>\n",
       "    <tr>\n",
       "      <th>5</th>\n",
       "      <td>PHECODE</td>\n",
       "      <td>Septicemia</td>\n",
       "      <td>38.0</td>\n",
       "      <td>24226</td>\n",
       "      <td>1122</td>\n",
       "    </tr>\n",
       "    <tr>\n",
       "      <th>7</th>\n",
       "      <td>PHECODE</td>\n",
       "      <td>Bacteremia</td>\n",
       "      <td>38.3</td>\n",
       "      <td>24229</td>\n",
       "      <td>1021</td>\n",
       "    </tr>\n",
       "    <tr>\n",
       "      <th>34</th>\n",
       "      <td>PHECODE</td>\n",
       "      <td>Other tests</td>\n",
       "      <td>1010.0</td>\n",
       "      <td>24268</td>\n",
       "      <td>1570</td>\n",
       "    </tr>\n",
       "    <tr>\n",
       "      <th>132</th>\n",
       "      <td>PHECODE</td>\n",
       "      <td>Lymphoid leukemia, chronic</td>\n",
       "      <td>204.12</td>\n",
       "      <td>24393</td>\n",
       "      <td>1064</td>\n",
       "    </tr>\n",
       "    <tr>\n",
       "      <th>322</th>\n",
       "      <td>PHECODE</td>\n",
       "      <td>Delirium due to conditions classified elsewhere</td>\n",
       "      <td>290.2</td>\n",
       "      <td>24661</td>\n",
       "      <td>1091</td>\n",
       "    </tr>\n",
       "    <tr>\n",
       "      <th>323</th>\n",
       "      <td>PHECODE</td>\n",
       "      <td>Other persistent mental disorders due to condi...</td>\n",
       "      <td>290.3</td>\n",
       "      <td>24662</td>\n",
       "      <td>1089</td>\n",
       "    </tr>\n",
       "    <tr>\n",
       "      <th>324</th>\n",
       "      <td>PHECODE</td>\n",
       "      <td>Specific nonpsychotic mental disorders due to ...</td>\n",
       "      <td>291.4</td>\n",
       "      <td>24665</td>\n",
       "      <td>1188</td>\n",
       "    </tr>\n",
       "    <tr>\n",
       "      <th>329</th>\n",
       "      <td>PHECODE</td>\n",
       "      <td>Memory loss</td>\n",
       "      <td>292.3</td>\n",
       "      <td>24672</td>\n",
       "      <td>1621</td>\n",
       "    </tr>\n",
       "    <tr>\n",
       "      <th>340</th>\n",
       "      <td>PHECODE</td>\n",
       "      <td>Suicide or self-inflicted injury</td>\n",
       "      <td>297.2</td>\n",
       "      <td>24688</td>\n",
       "      <td>1019</td>\n",
       "    </tr>\n",
       "    <tr>\n",
       "      <th>377</th>\n",
       "      <td>PHECODE</td>\n",
       "      <td>Meningitis</td>\n",
       "      <td>320.0</td>\n",
       "      <td>24729</td>\n",
       "      <td>1768</td>\n",
       "    </tr>\n",
       "    <tr>\n",
       "      <th>407</th>\n",
       "      <td>PHECODE</td>\n",
       "      <td>Other headache syndromes</td>\n",
       "      <td>339.0</td>\n",
       "      <td>24768</td>\n",
       "      <td>1070</td>\n",
       "    </tr>\n",
       "    <tr>\n",
       "      <th>411</th>\n",
       "      <td>PHECODE</td>\n",
       "      <td>Infantile cerebral palsy</td>\n",
       "      <td>343.0</td>\n",
       "      <td>24772</td>\n",
       "      <td>1295</td>\n",
       "    </tr>\n",
       "    <tr>\n",
       "      <th>413</th>\n",
       "      <td>PHECODE</td>\n",
       "      <td>Epilepsy, recurrent seizures, convulsions</td>\n",
       "      <td>345.0</td>\n",
       "      <td>24774</td>\n",
       "      <td>1028</td>\n",
       "    </tr>\n",
       "    <tr>\n",
       "      <th>417</th>\n",
       "      <td>PHECODE</td>\n",
       "      <td>Convulsions</td>\n",
       "      <td>345.3</td>\n",
       "      <td>24778</td>\n",
       "      <td>1024</td>\n",
       "    </tr>\n",
       "    <tr>\n",
       "      <th>419</th>\n",
       "      <td>PHECODE</td>\n",
       "      <td>Other conditions of brain</td>\n",
       "      <td>348.0</td>\n",
       "      <td>24782</td>\n",
       "      <td>1008</td>\n",
       "    </tr>\n",
       "    <tr>\n",
       "      <th>420</th>\n",
       "      <td>PHECODE</td>\n",
       "      <td>Cerebral edema and compression of brain</td>\n",
       "      <td>348.2</td>\n",
       "      <td>24783</td>\n",
       "      <td>1022</td>\n",
       "    </tr>\n",
       "    <tr>\n",
       "      <th>422</th>\n",
       "      <td>PHECODE</td>\n",
       "      <td>Encephalopathy, not elsewhere classified</td>\n",
       "      <td>348.8</td>\n",
       "      <td>24786</td>\n",
       "      <td>1071</td>\n",
       "    </tr>\n",
       "    <tr>\n",
       "      <th>477</th>\n",
       "      <td>PHECODE</td>\n",
       "      <td>Epiphora</td>\n",
       "      <td>375.2</td>\n",
       "      <td>24891</td>\n",
       "      <td>1006</td>\n",
       "    </tr>\n",
       "    <tr>\n",
       "      <th>482</th>\n",
       "      <td>PHECODE</td>\n",
       "      <td>Strabismus (not specified as paralytic)</td>\n",
       "      <td>378.1</td>\n",
       "      <td>24897</td>\n",
       "      <td>1180</td>\n",
       "    </tr>\n",
       "    <tr>\n",
       "      <th>492</th>\n",
       "      <td>PHECODE</td>\n",
       "      <td>Otorrhea</td>\n",
       "      <td>381.9</td>\n",
       "      <td>24915</td>\n",
       "      <td>1402</td>\n",
       "    </tr>\n",
       "    <tr>\n",
       "      <th>495</th>\n",
       "      <td>PHECODE</td>\n",
       "      <td>Perforation of tympanic membrane</td>\n",
       "      <td>384.4</td>\n",
       "      <td>24920</td>\n",
       "      <td>1004</td>\n",
       "    </tr>\n",
       "    <tr>\n",
       "      <th>518</th>\n",
       "      <td>PHECODE</td>\n",
       "      <td>Other hypertensive complications</td>\n",
       "      <td>401.3</td>\n",
       "      <td>24955</td>\n",
       "      <td>1147</td>\n",
       "    </tr>\n",
       "    <tr>\n",
       "      <th>532</th>\n",
       "      <td>PHECODE</td>\n",
       "      <td>Myocarditis</td>\n",
       "      <td>420.1</td>\n",
       "      <td>24975</td>\n",
       "      <td>1051</td>\n",
       "    </tr>\n",
       "    <tr>\n",
       "      <th>568</th>\n",
       "      <td>PHECODE</td>\n",
       "      <td>Cerebrovascular disease</td>\n",
       "      <td>433.0</td>\n",
       "      <td>25033</td>\n",
       "      <td>1261</td>\n",
       "    </tr>\n",
       "    <tr>\n",
       "      <th>575</th>\n",
       "      <td>PHECODE</td>\n",
       "      <td>Acute, but ill-defined cerebrovascular disease</td>\n",
       "      <td>433.6</td>\n",
       "      <td>25043</td>\n",
       "      <td>1102</td>\n",
       "    </tr>\n",
       "    <tr>\n",
       "      <th>576</th>\n",
       "      <td>PHECODE</td>\n",
       "      <td>Late effects of cerebrovascular disease</td>\n",
       "      <td>433.8</td>\n",
       "      <td>25044</td>\n",
       "      <td>1338</td>\n",
       "    </tr>\n",
       "    <tr>\n",
       "      <th>611</th>\n",
       "      <td>PHECODE</td>\n",
       "      <td>Circulatory disease NEC</td>\n",
       "      <td>459.9</td>\n",
       "      <td>25105</td>\n",
       "      <td>1049</td>\n",
       "    </tr>\n",
       "    <tr>\n",
       "      <th>614</th>\n",
       "      <td>PHECODE</td>\n",
       "      <td>Acute laryngitis and tracheitis</td>\n",
       "      <td>465.4</td>\n",
       "      <td>25109</td>\n",
       "      <td>1051</td>\n",
       "    </tr>\n",
       "    <tr>\n",
       "      <th>644</th>\n",
       "      <td>PHECODE</td>\n",
       "      <td>Empyema and pneumothorax</td>\n",
       "      <td>506.0</td>\n",
       "      <td>25156</td>\n",
       "      <td>1195</td>\n",
       "    </tr>\n",
       "  </tbody>\n",
       "</table>\n",
       "</div>"
      ],
      "text/plain": [
       "       ntype                                          node_name node_id  \\\n",
       "4    PHECODE                                       Tuberculosis    10.0   \n",
       "5    PHECODE                                         Septicemia    38.0   \n",
       "7    PHECODE                                         Bacteremia    38.3   \n",
       "34   PHECODE                                        Other tests  1010.0   \n",
       "132  PHECODE                         Lymphoid leukemia, chronic  204.12   \n",
       "322  PHECODE    Delirium due to conditions classified elsewhere   290.2   \n",
       "323  PHECODE  Other persistent mental disorders due to condi...   290.3   \n",
       "324  PHECODE  Specific nonpsychotic mental disorders due to ...   291.4   \n",
       "329  PHECODE                                        Memory loss   292.3   \n",
       "340  PHECODE                   Suicide or self-inflicted injury   297.2   \n",
       "377  PHECODE                                         Meningitis   320.0   \n",
       "407  PHECODE                           Other headache syndromes   339.0   \n",
       "411  PHECODE                           Infantile cerebral palsy   343.0   \n",
       "413  PHECODE          Epilepsy, recurrent seizures, convulsions   345.0   \n",
       "417  PHECODE                                        Convulsions   345.3   \n",
       "419  PHECODE                          Other conditions of brain   348.0   \n",
       "420  PHECODE            Cerebral edema and compression of brain   348.2   \n",
       "422  PHECODE           Encephalopathy, not elsewhere classified   348.8   \n",
       "477  PHECODE                                           Epiphora   375.2   \n",
       "482  PHECODE            Strabismus (not specified as paralytic)   378.1   \n",
       "492  PHECODE                                           Otorrhea   381.9   \n",
       "495  PHECODE                   Perforation of tympanic membrane   384.4   \n",
       "518  PHECODE                   Other hypertensive complications   401.3   \n",
       "532  PHECODE                                        Myocarditis   420.1   \n",
       "568  PHECODE                            Cerebrovascular disease   433.0   \n",
       "575  PHECODE     Acute, but ill-defined cerebrovascular disease   433.6   \n",
       "576  PHECODE            Late effects of cerebrovascular disease   433.8   \n",
       "611  PHECODE                            Circulatory disease NEC   459.9   \n",
       "614  PHECODE                    Acute laryngitis and tracheitis   465.4   \n",
       "644  PHECODE                           Empyema and pneumothorax   506.0   \n",
       "\n",
       "     global_graph_index  degree  \n",
       "4                 24223    1473  \n",
       "5                 24226    1122  \n",
       "7                 24229    1021  \n",
       "34                24268    1570  \n",
       "132               24393    1064  \n",
       "322               24661    1091  \n",
       "323               24662    1089  \n",
       "324               24665    1188  \n",
       "329               24672    1621  \n",
       "340               24688    1019  \n",
       "377               24729    1768  \n",
       "407               24768    1070  \n",
       "411               24772    1295  \n",
       "413               24774    1028  \n",
       "417               24778    1024  \n",
       "419               24782    1008  \n",
       "420               24783    1022  \n",
       "422               24786    1071  \n",
       "477               24891    1006  \n",
       "482               24897    1180  \n",
       "492               24915    1402  \n",
       "495               24920    1004  \n",
       "518               24955    1147  \n",
       "532               24975    1051  \n",
       "568               25033    1261  \n",
       "575               25043    1102  \n",
       "576               25044    1338  \n",
       "611               25105    1049  \n",
       "614               25109    1051  \n",
       "644               25156    1195  "
      ]
     },
     "execution_count": 30,
     "metadata": {},
     "output_type": "execute_result"
    }
   ],
   "source": [
    "high_degree_df.head(30)"
   ]
  },
  {
   "cell_type": "code",
   "execution_count": 28,
   "metadata": {},
   "outputs": [
    {
     "data": {
      "text/plain": [
       "(64, 5)"
      ]
     },
     "execution_count": 28,
     "metadata": {},
     "output_type": "execute_result"
    }
   ],
   "source": [
    "high_degree_df.shape"
   ]
  },
  {
   "cell_type": "code",
   "execution_count": 79,
   "metadata": {},
   "outputs": [
    {
     "data": {
      "text/plain": [
       "6884"
      ]
     },
     "execution_count": 79,
     "metadata": {},
     "output_type": "execute_result"
    }
   ],
   "source": [
    "len(keep_icd_inds)"
   ]
  },
  {
   "cell_type": "code",
   "execution_count": 80,
   "metadata": {},
   "outputs": [
    {
     "name": "stderr",
     "output_type": "stream",
     "text": [
      "100%|██████████| 64/64 [04:32<00:00,  4.26s/it]\n"
     ]
    }
   ],
   "source": [
    "from tqdm import tqdm \n",
    "\n",
    "edge_tuples = homo_hg.edges()\n",
    "\n",
    "# for each high degree node, cut all icd neighbors. Get eid for forward/backward edges\n",
    "u_remove_list = []\n",
    "v_remove_list = []\n",
    "\n",
    "for src_node in tqdm(high_degree_df['global_graph_index'].values):\n",
    "    for u,v in (zip(edge_tuples[0], edge_tuples[1])):\n",
    "        if (u.item() == src_node) and (v.item() in icd_inds):\n",
    "            # check if has >4 digits\n",
    "            if v.item() not in keep_icd_inds:\n",
    "                u_remove_list.append(u)\n",
    "                v_remove_list.append(v)\n",
    "\n",
    "                # reverse edge\n",
    "                u_remove_list.append(v)\n",
    "                v_remove_list.append(u)"
   ]
  },
  {
   "cell_type": "code",
   "execution_count": 82,
   "metadata": {},
   "outputs": [
    {
     "data": {
      "text/plain": [
       "76874"
      ]
     },
     "execution_count": 82,
     "metadata": {},
     "output_type": "execute_result"
    }
   ],
   "source": [
    "len(u_remove_list)"
   ]
  },
  {
   "cell_type": "code",
   "execution_count": 84,
   "metadata": {},
   "outputs": [
    {
     "data": {
      "text/html": [
       "<div>\n",
       "<style scoped>\n",
       "    .dataframe tbody tr th:only-of-type {\n",
       "        vertical-align: middle;\n",
       "    }\n",
       "\n",
       "    .dataframe tbody tr th {\n",
       "        vertical-align: top;\n",
       "    }\n",
       "\n",
       "    .dataframe thead th {\n",
       "        text-align: right;\n",
       "    }\n",
       "</style>\n",
       "<table border=\"1\" class=\"dataframe\">\n",
       "  <thead>\n",
       "    <tr style=\"text-align: right;\">\n",
       "      <th></th>\n",
       "      <th>ntype</th>\n",
       "      <th>node_name</th>\n",
       "      <th>node_id</th>\n",
       "      <th>global_graph_index</th>\n",
       "      <th>degree</th>\n",
       "    </tr>\n",
       "  </thead>\n",
       "  <tbody>\n",
       "    <tr>\n",
       "      <th>4</th>\n",
       "      <td>PHECODE</td>\n",
       "      <td>Tuberculosis</td>\n",
       "      <td>10.0</td>\n",
       "      <td>24223</td>\n",
       "      <td>1473</td>\n",
       "    </tr>\n",
       "    <tr>\n",
       "      <th>5</th>\n",
       "      <td>PHECODE</td>\n",
       "      <td>Septicemia</td>\n",
       "      <td>38.0</td>\n",
       "      <td>24226</td>\n",
       "      <td>1122</td>\n",
       "    </tr>\n",
       "    <tr>\n",
       "      <th>7</th>\n",
       "      <td>PHECODE</td>\n",
       "      <td>Bacteremia</td>\n",
       "      <td>38.3</td>\n",
       "      <td>24229</td>\n",
       "      <td>1021</td>\n",
       "    </tr>\n",
       "    <tr>\n",
       "      <th>34</th>\n",
       "      <td>PHECODE</td>\n",
       "      <td>Other tests</td>\n",
       "      <td>1010.0</td>\n",
       "      <td>24268</td>\n",
       "      <td>1570</td>\n",
       "    </tr>\n",
       "    <tr>\n",
       "      <th>132</th>\n",
       "      <td>PHECODE</td>\n",
       "      <td>Lymphoid leukemia, chronic</td>\n",
       "      <td>204.12</td>\n",
       "      <td>24393</td>\n",
       "      <td>1064</td>\n",
       "    </tr>\n",
       "  </tbody>\n",
       "</table>\n",
       "</div>"
      ],
      "text/plain": [
       "       ntype                   node_name node_id  global_graph_index  degree\n",
       "4    PHECODE                Tuberculosis    10.0               24223    1473\n",
       "5    PHECODE                  Septicemia    38.0               24226    1122\n",
       "7    PHECODE                  Bacteremia    38.3               24229    1021\n",
       "34   PHECODE                 Other tests  1010.0               24268    1570\n",
       "132  PHECODE  Lymphoid leukemia, chronic  204.12               24393    1064"
      ]
     },
     "execution_count": 84,
     "metadata": {},
     "output_type": "execute_result"
    }
   ],
   "source": [
    "high_degree_df.head()"
   ]
  },
  {
   "cell_type": "code",
   "execution_count": 85,
   "metadata": {},
   "outputs": [],
   "source": [
    "remove_eids = homo_hg.edge_ids(torch.tensor(u_remove_list, dtype=torch.int64), torch.tensor(v_remove_list, dtype=torch.int64))\n",
    "filter_homo_hg = dgl.remove_edges(homo_hg, remove_eids)"
   ]
  },
  {
   "cell_type": "code",
   "execution_count": 86,
   "metadata": {},
   "outputs": [],
   "source": [
    "# add random features\n",
    "n_feat=128\n",
    "xavier_tensor = torch.empty(filter_homo_hg.num_nodes(), n_feat)\n",
    "torch.nn.init.xavier_uniform_(xavier_tensor)\n",
    "filter_homo_hg.ndata['feat'] = xavier_tensor"
   ]
  },
  {
   "cell_type": "code",
   "execution_count": 87,
   "metadata": {},
   "outputs": [
    {
     "name": "stdout",
     "output_type": "stream",
     "text": [
      "1315610\n",
      "67124\n"
     ]
    }
   ],
   "source": [
    "print(filter_homo_hg.num_edges())\n",
    "print(filter_homo_hg.num_nodes())"
   ]
  },
  {
   "cell_type": "code",
   "execution_count": 88,
   "metadata": {},
   "outputs": [],
   "source": [
    "dgl.save_graphs(\"new_homo_hg_hms.pt\", [filter_homo_hg])"
   ]
  },
  {
   "cell_type": "code",
   "execution_count": null,
   "metadata": {},
   "outputs": [],
   "source": []
  }
 ],
 "metadata": {
  "kernelspec": {
   "display_name": "base",
   "language": "python",
   "name": "python3"
  },
  "language_info": {
   "codemirror_mode": {
    "name": "ipython",
    "version": 3
   },
   "file_extension": ".py",
   "mimetype": "text/x-python",
   "name": "python",
   "nbconvert_exporter": "python",
   "pygments_lexer": "ipython3",
   "version": "3.10.9"
  }
 },
 "nbformat": 4,
 "nbformat_minor": 2
}
